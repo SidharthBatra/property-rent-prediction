{
 "cells": [
  {
   "cell_type": "markdown",
   "id": "dc7dee5f",
   "metadata": {},
   "source": [
    "# 🏠 Property Rent Price Prediction Model\n",
    "\n",
    "This notebook demonstrates a simple machine learning pipeline to predict rental property prices using Python, pandas, and scikit-learn.\n",
    "\n",
    "### 📌 Project Workflow:\n",
    "- Data Loading and Exploration\n",
    "- Data Cleaning and Feature Engineering\n",
    "- Model Training (Linear Regression)\n",
    "- Model Evaluation (R², MAE)\n",
    "- Sample Predictions\n",
    "\n",
    "---"
   ]
  },
  {
   "cell_type": "markdown",
   "id": "19140fe9-874a-485f-9487-17732875ba24",
   "metadata": {},
   "source": [
    "## Importing the libraries"
   ]
  },
  {
   "cell_type": "code",
   "execution_count": 1,
   "id": "1a8e3252-b3ac-4813-b938-4865ca690f3d",
   "metadata": {},
   "outputs": [],
   "source": [
    "import pandas as pd\n",
    "import numpy as np\n",
    "from matplotlib import pyplot as plt\n",
    "%matplotlib inline\n",
    "import matplotlib\n",
    "matplotlib.rcParams['figure.figsize'] = (20,10)\n",
    "pd.set_option('display.float_format', '{:.2f}'.format)"
   ]
  },
  {
   "cell_type": "code",
   "execution_count": 2,
   "id": "14921d46-762c-48b9-9053-a0b504223f3a",
   "metadata": {},
   "outputs": [
    {
     "data": {
      "text/html": [
       "<div>\n",
       "<style scoped>\n",
       "    .dataframe tbody tr th:only-of-type {\n",
       "        vertical-align: middle;\n",
       "    }\n",
       "\n",
       "    .dataframe tbody tr th {\n",
       "        vertical-align: top;\n",
       "    }\n",
       "\n",
       "    .dataframe thead th {\n",
       "        text-align: right;\n",
       "    }\n",
       "</style>\n",
       "<table border=\"1\" class=\"dataframe\">\n",
       "  <thead>\n",
       "    <tr style=\"text-align: right;\">\n",
       "      <th></th>\n",
       "      <th>Type</th>\n",
       "      <th>Price</th>\n",
       "      <th>Location</th>\n",
       "      <th>Baths</th>\n",
       "      <th>Area</th>\n",
       "      <th>Beds</th>\n",
       "    </tr>\n",
       "  </thead>\n",
       "  <tbody>\n",
       "    <tr>\n",
       "      <th>0</th>\n",
       "      <td>Upper Portion</td>\n",
       "      <td>PKR45 Thousand</td>\n",
       "      <td>Wapda Town, Lahore, Punjab</td>\n",
       "      <td>3</td>\n",
       "      <td>10 Marla</td>\n",
       "      <td>2</td>\n",
       "    </tr>\n",
       "    <tr>\n",
       "      <th>1</th>\n",
       "      <td>Upper Portion</td>\n",
       "      <td>PKR40 Thousand</td>\n",
       "      <td>Expo Avenue Society, Lahore, Punjab</td>\n",
       "      <td>3</td>\n",
       "      <td>10 Marla</td>\n",
       "      <td>3</td>\n",
       "    </tr>\n",
       "    <tr>\n",
       "      <th>2</th>\n",
       "      <td>Upper Portion</td>\n",
       "      <td>PKR47 Thousand</td>\n",
       "      <td>Wapda Town, Lahore, Punjab</td>\n",
       "      <td>2</td>\n",
       "      <td>10 Marla</td>\n",
       "      <td>2</td>\n",
       "    </tr>\n",
       "    <tr>\n",
       "      <th>3</th>\n",
       "      <td>House</td>\n",
       "      <td>PKR5.95 Lakh</td>\n",
       "      <td>Gulberg, Lahore, Punjab</td>\n",
       "      <td>7</td>\n",
       "      <td>2 Kanal</td>\n",
       "      <td>6</td>\n",
       "    </tr>\n",
       "    <tr>\n",
       "      <th>4</th>\n",
       "      <td>House</td>\n",
       "      <td>PKR5 Lakh</td>\n",
       "      <td>Muslim Town, Lahore, Punjab</td>\n",
       "      <td>7</td>\n",
       "      <td>2 Kanal</td>\n",
       "      <td>5</td>\n",
       "    </tr>\n",
       "  </tbody>\n",
       "</table>\n",
       "</div>"
      ],
      "text/plain": [
       "            Type           Price                             Location Baths  \\\n",
       "0  Upper Portion  PKR45 Thousand           Wapda Town, Lahore, Punjab     3   \n",
       "1  Upper Portion  PKR40 Thousand  Expo Avenue Society, Lahore, Punjab     3   \n",
       "2  Upper Portion  PKR47 Thousand           Wapda Town, Lahore, Punjab     2   \n",
       "3          House    PKR5.95 Lakh              Gulberg, Lahore, Punjab     7   \n",
       "4          House       PKR5 Lakh          Muslim Town, Lahore, Punjab     7   \n",
       "\n",
       "       Area Beds  \n",
       "0  10 Marla    2  \n",
       "1  10 Marla    3  \n",
       "2  10 Marla    2  \n",
       "3   2 Kanal    6  \n",
       "4   2 Kanal    5  "
      ]
     },
     "execution_count": 2,
     "metadata": {},
     "output_type": "execute_result"
    }
   ],
   "source": [
    "df = pd.read_csv('lahore-property-rents.csv')\n",
    "df.head()"
   ]
  },
  {
   "cell_type": "code",
   "execution_count": 3,
   "id": "b5c6fc72-d33a-41f2-b5c3-16514b0d2816",
   "metadata": {},
   "outputs": [
    {
     "data": {
      "text/plain": [
       "Type        0\n",
       "Price       0\n",
       "Location    0\n",
       "Baths       0\n",
       "Area        0\n",
       "Beds        0\n",
       "dtype: int64"
      ]
     },
     "execution_count": 3,
     "metadata": {},
     "output_type": "execute_result"
    }
   ],
   "source": [
    "df.isna().sum()"
   ]
  },
  {
   "cell_type": "code",
   "execution_count": 4,
   "id": "e30030d9-fa5a-4c15-aba9-e5ed5377b4b1",
   "metadata": {},
   "outputs": [
    {
     "data": {
      "text/plain": [
       "array(['PKR45 Thousand', 'PKR40 Thousand', 'PKR47 Thousand',\n",
       "       'PKR5.95 Lakh', 'PKR5 Lakh', 'PKR15 Lakh', 'PKR4.1 Lakh',\n",
       "       'PKR4.5 Lakh', 'PKR9.5 Lakh', 'PKR30 Thousand', 'PKR5.5 Lakh',\n",
       "       'PKR4 Lakh', 'PKR18 Thousand', 'PKR22 Thousand', 'PKR55 Thousand',\n",
       "       'PKR28 Thousand', 'PKR46 Thousand', 'PKR37 Thousand',\n",
       "       'PKR36 Thousand', 'PKR75 Thousand', 'PKR50 Thousand',\n",
       "       'PKR1.4 Lakh', 'PKR13 Thousand', 'PKR65 Thousand', 'PKR1.1 Lakh',\n",
       "       'PKR2.9 Lakh', 'PKR92 Thousand', 'PKR1.64 Lakh', 'PKR1.45 Lakh',\n",
       "       'PKR90 Thousand', 'PKR60 Thousand', 'PKR95 Thousand',\n",
       "       'PKR70 Thousand', 'PKR1.9 Lakh', 'PKR53 Thousand', 'PKR1 Lakh',\n",
       "       'PKR3.5 Lakh', 'PKR2.8 Lakh', 'PKR2 Lakh', 'PKR3 Lakh',\n",
       "       'PKR3.35 Lakh', 'PKR3.3 Lakh', 'PKR3.4 Lakh', 'PKR1.8 Lakh',\n",
       "       'PKR1.5 Lakh', 'PKR2.6 Lakh', 'PKR80 Thousand', 'PKR3.7 Lakh',\n",
       "       'PKR2.3 Lakh', 'PKR15 Thousand', 'PKR25 Thousand',\n",
       "       'PKR23 Thousand', 'PKR1.3 Lakh', 'PKR1.85 Lakh', 'PKR38 Thousand',\n",
       "       'PKR1.32 Lakh', 'PKR1.25 Lakh', 'PKR1.65 Lakh', 'PKR1.2 Lakh',\n",
       "       'PKR19 Thousand', 'PKR27 Thousand', 'PKR42 Thousand',\n",
       "       'PKR2.2 Lakh', 'PKR26 Thousand', 'PKR1.7 Lakh', 'PKR2.5 Lakh',\n",
       "       'PKR35 Thousand', 'PKR1.6 Lakh', 'PKR2.25 Lakh', 'PKR2.05 Lakh',\n",
       "       'PKR2.1 Lakh', 'PKR83 Thousand', 'PKR78 Thousand', 'PKR3.1 Lakh',\n",
       "       'PKR2.75 Lakh', 'PKR1.95 Lakh', 'PKR3.75 Lakh', 'PKR3.98 Lakh',\n",
       "       'PKR1.75 Lakh', 'PKR85 Thousand', 'PKR3.9 Lakh', 'PKR63 Thousand',\n",
       "       'PKR6.5 Lakh', 'PKR93 Thousand', 'PKR87 Thousand', 'PKR2.95 Lakh',\n",
       "       'PKR58 Thousand', 'PKR1.15 Lakh', 'PKR5.5 Thousand',\n",
       "       'PKR67 Thousand', 'PKR1.55 Lakh', 'PKR29 Thousand', 'PKR1.05 Lakh',\n",
       "       'PKR2.4 Lakh', 'PKR16 Thousand', 'PKR64 Thousand',\n",
       "       'PKR49.5 Thousand', 'PKR68 Thousand', 'PKR66 Thousand',\n",
       "       'PKR62 Thousand', 'PKR12 Thousand', 'PKR20 Thousand',\n",
       "       'PKR72 Thousand', 'PKR1.35 Lakh', 'PKR7 Lakh', 'PKR3.25 Lakh',\n",
       "       'PKR6 Lakh', 'PKR52 Thousand', 'PKR48 Thousand', 'PKR74 Thousand',\n",
       "       'PKR76 Thousand', 'PKR33 Thousand', 'PKR24 Thousand',\n",
       "       'PKR43 Thousand', 'PKR2.7 Lakh', 'PKR39 Thousand',\n",
       "       'PKR14 Thousand', 'PKR10 Thousand', 'PKR32 Thousand',\n",
       "       'PKR49 Thousand', 'PKR69 Thousand', 'PKR2.85 Lakh',\n",
       "       'PKR17 Thousand', 'PKR31 Thousand', 'PKR88 Thousand',\n",
       "       'PKR57 Thousand', 'PKR82 Thousand', 'PKR2.35 Lakh',\n",
       "       'PKR54 Thousand', 'PKR97 Thousand', 'PKR1.68 Lakh',\n",
       "       'PKR59 Thousand', 'PKR56 Thousand', 'PKR59.09 Thousand',\n",
       "       'PKR5.75 Lakh', 'PKR99 Thousand', 'PKR4.3 Lakh', 'PKR73 Thousand',\n",
       "       'PKR25.5 Thousand', 'PKR1.29 Lakh', 'PKR8 Thousand',\n",
       "       'PKR1.79 Lakh', 'PKR10 Lakh', 'PKR3.2 Lakh', 'PKR6.95 Lakh',\n",
       "       'PKR2.55 Lakh', 'PKR94 Thousand', 'PKR3.15 Lakh', 'PKR89 Thousand',\n",
       "       'PKR2.65 Lakh', 'PKR1.59 Lakh', 'PKR44 Thousand', 'PKR9.95 Lakh',\n",
       "       'PKR2.15 Lakh', 'PKR1.27 Lakh', 'PKR1.18 Lakh', 'PKR1.48 Lakh',\n",
       "       'PKR84 Thousand', 'PKR98 Thousand', 'PKR34 Thousand',\n",
       "       'PKR5.9 Lakh', 'PKR23.5 Thousand', 'PKR7 Thousand',\n",
       "       'PKR14.5 Thousand', 'PKR4.2 Lakh', 'PKR6.9 Lakh', 'PKR2.45 Lakh',\n",
       "       'PKR6.7 Lakh', 'PKR86 Thousand', 'PKR3.45 Lakh', 'PKR71 Thousand',\n",
       "       'PKR8 Lakh', 'PKR3.8 Lakh', 'PKR17.5 Thousand', 'PKR41 Thousand',\n",
       "       'PKR21 Thousand', 'PKR1.09 Lakh', 'PKR1.08 Lakh', 'PKR4.25 Lakh',\n",
       "       'PKR2.59 Lakh', 'PKR12 Lakh', 'PKR10.5 Lakh', 'PKR9.25 Lakh',\n",
       "       'PKR9 Lakh', 'PKR2.11 Lakh', 'PKR77 Thousand', 'PKR39.5 Thousand',\n",
       "       'PKR79 Thousand', 'PKR1.11 Lakh', 'PKR1.49 Lakh', 'PKR2.49 Lakh',\n",
       "       'PKR2.78 Lakh', 'PKR96 Thousand', 'PKR37.5 Thousand',\n",
       "       'PKR16.5 Thousand', 'PKR61 Thousand', 'PKR7.5 Lakh',\n",
       "       'PKR2.12 Lakh', 'PKR5 Thousand', 'PKR32.5 Thousand',\n",
       "       'PKR15.5 Lakh', 'PKR1.12 Lakh', 'PKR1.5 Thousand', 'PKR4.85 Lakh',\n",
       "       'PKR3.6 Lakh', 'PKR3.48 Lakh', 'PKR2.48 Lakh', 'PKR1.07 Lakh',\n",
       "       'PKR1.71 Lakh', 'PKR1.72 Lakh', 'PKR1.67 Lakh', 'PKR4.75 Lakh',\n",
       "       'PKR13 Lakh', 'PKR91 Thousand', 'PKR3.95 Lakh', 'PKR11 Thousand',\n",
       "       'PKR50.01 Thousand', 'PKR4.8 Lakh', 'PKR18 Lakh', 'PKR2.04 Lakh',\n",
       "       'PKR11 Lakh', 'PKR44.5 Thousand', 'PKR42.5 Thousand',\n",
       "       'PKR1.44 Lakh', 'PKR2.08 Lakh', 'PKR1.26 Lakh', 'PKR1.82 Lakh',\n",
       "       'PKR8.5 Lakh', 'PKR2.01 Lakh', 'PKR2.29 Lakh', 'PKR2.99 Lakh',\n",
       "       'PKR1.99 Lakh', 'PKR59.5 Thousand', 'PKR4.15 Lakh', 'PKR5.25 Lakh',\n",
       "       'PKR1.38 Lakh', 'PKR2.09 Lakh', 'PKR18.5 Thousand',\n",
       "       'PKR33.5 Thousand', 'PKR81 Thousand', 'PKR11.5 Thousand',\n",
       "       'PKR6.5 Thousand', 'PKR4.9 Lakh', 'PKR51 Thousand', 'PKR1.87 Lakh',\n",
       "       'PKR6 Thousand', 'PKR7.5 Thousand', 'PKR15.5 Thousand',\n",
       "       'PKR4.7 Lakh', 'PKR3.39 Lakh', 'PKR28.5 Thousand', 'PKR4.6 Lakh',\n",
       "       'PKR4.4 Lakh', 'PKR27.5 Thousand', 'PKR3.05 Lakh', 'PKR6.3 Lakh',\n",
       "       'PKR9.1 Lakh', 'PKR11.5 Lakh', 'PKR3.65 Lakh', 'PKR2.5 Thousand',\n",
       "       'PKR4 Thousand', 'PKR20.8 Lakh', 'PKR4.5 Thousand', 'PKR4.55 Lakh',\n",
       "       'PKR6.75 Lakh', 'PKR100 Thousand', 'PKR9 Thousand',\n",
       "       'PKR26.5 Thousand', 'PKR25 Lakh', 'PKR4.1 Thousand',\n",
       "       'PKR33.57 Thousand', 'PKR2.8 Thousand', 'PKR13.5 Thousand',\n",
       "       'PKR12.3 Thousand', 'PKR21.5 Thousand', 'PKR24.5 Thousand',\n",
       "       'PKR67.5 Thousand', 'PKR6.25 Thousand', 'PKR10.5 Thousand',\n",
       "       'PKR36.5 Thousand', 'PKR40.9 Thousand', 'PKR14 Lakh',\n",
       "       'PKR19.5 Thousand', 'PKR20.5 Thousand', 'PKR1.34 Lakh',\n",
       "       'PKR2.36 Lakh', 'PKR12.5 Thousand', 'PKR30 Lakh',\n",
       "       'PKR28.3 Thousand', 'PKR12.9 Thousand', 'PKR29.5 Thousand',\n",
       "       'PKR1.41 Lakh', 'PKR38.5 Thousand', 'PKR1.52 Lakh',\n",
       "       'PKR22.5 Thousand', 'PKR1.28 Lakh', 'PKR55.5 Thousand',\n",
       "       'PKR8.5 Thousand', 'PKR9.5 Thousand', 'PKR4.8 Thousand',\n",
       "       'PKR35.5 Thousand', 'PKR34.99 Thousand', 'PKR3 Thousand',\n",
       "       'PKR1.23 Lakh', 'PKR3.49 Lakh'], dtype=object)"
      ]
     },
     "execution_count": 4,
     "metadata": {},
     "output_type": "execute_result"
    }
   ],
   "source": [
    "Usize = df['Price'].unique()\n",
    "Usize"
   ]
  },
  {
   "cell_type": "code",
   "execution_count": 5,
   "id": "5b910107-3dc9-408b-aba8-07993ef333f7",
   "metadata": {},
   "outputs": [
    {
     "data": {
      "text/plain": [
       "305"
      ]
     },
     "execution_count": 5,
     "metadata": {},
     "output_type": "execute_result"
    }
   ],
   "source": [
    "len(Usize)"
   ]
  },
  {
   "cell_type": "code",
   "execution_count": 6,
   "id": "b927a0ba-3646-4618-baf1-cca442f93bed",
   "metadata": {},
   "outputs": [
    {
     "data": {
      "text/plain": [
       "(20510, 6)"
      ]
     },
     "execution_count": 6,
     "metadata": {},
     "output_type": "execute_result"
    }
   ],
   "source": [
    "df.shape"
   ]
  },
  {
   "cell_type": "code",
   "execution_count": 7,
   "id": "f630ce84-6c6b-4fa8-b9bb-4abc2db1ef9c",
   "metadata": {},
   "outputs": [
    {
     "data": {
      "text/plain": [
       "Type\n",
       "Farm House         58\n",
       "Flat             2334\n",
       "Home                2\n",
       "House            9190\n",
       "Lower Portion    2647\n",
       "Penthouse           6\n",
       "Room              576\n",
       "Upper Portion    5697\n",
       "Name: Type, dtype: int64"
      ]
     },
     "execution_count": 7,
     "metadata": {},
     "output_type": "execute_result"
    }
   ],
   "source": [
    "df.groupby('Type')['Type'].agg('count')"
   ]
  },
  {
   "cell_type": "code",
   "execution_count": 8,
   "id": "4b6aa2ba-21c6-4fff-a49a-6e521c8f7eb3",
   "metadata": {},
   "outputs": [
    {
     "data": {
      "text/html": [
       "<div>\n",
       "<style scoped>\n",
       "    .dataframe tbody tr th:only-of-type {\n",
       "        vertical-align: middle;\n",
       "    }\n",
       "\n",
       "    .dataframe tbody tr th {\n",
       "        vertical-align: top;\n",
       "    }\n",
       "\n",
       "    .dataframe thead th {\n",
       "        text-align: right;\n",
       "    }\n",
       "</style>\n",
       "<table border=\"1\" class=\"dataframe\">\n",
       "  <thead>\n",
       "    <tr style=\"text-align: right;\">\n",
       "      <th></th>\n",
       "      <th>Type</th>\n",
       "      <th>Price</th>\n",
       "      <th>Location</th>\n",
       "      <th>Baths</th>\n",
       "      <th>Area</th>\n",
       "      <th>Beds</th>\n",
       "    </tr>\n",
       "  </thead>\n",
       "  <tbody>\n",
       "    <tr>\n",
       "      <th>0</th>\n",
       "      <td>Upper Portion</td>\n",
       "      <td>PKR45 Thousand</td>\n",
       "      <td>Wapda Town, Lahore, Punjab</td>\n",
       "      <td>3</td>\n",
       "      <td>10 Marla</td>\n",
       "      <td>2</td>\n",
       "    </tr>\n",
       "    <tr>\n",
       "      <th>1</th>\n",
       "      <td>Upper Portion</td>\n",
       "      <td>PKR40 Thousand</td>\n",
       "      <td>Expo Avenue Society, Lahore, Punjab</td>\n",
       "      <td>3</td>\n",
       "      <td>10 Marla</td>\n",
       "      <td>3</td>\n",
       "    </tr>\n",
       "    <tr>\n",
       "      <th>2</th>\n",
       "      <td>Upper Portion</td>\n",
       "      <td>PKR47 Thousand</td>\n",
       "      <td>Wapda Town, Lahore, Punjab</td>\n",
       "      <td>2</td>\n",
       "      <td>10 Marla</td>\n",
       "      <td>2</td>\n",
       "    </tr>\n",
       "    <tr>\n",
       "      <th>3</th>\n",
       "      <td>House</td>\n",
       "      <td>PKR5.95 Lakh</td>\n",
       "      <td>Gulberg, Lahore, Punjab</td>\n",
       "      <td>7</td>\n",
       "      <td>2 Kanal</td>\n",
       "      <td>6</td>\n",
       "    </tr>\n",
       "    <tr>\n",
       "      <th>4</th>\n",
       "      <td>House</td>\n",
       "      <td>PKR5 Lakh</td>\n",
       "      <td>Muslim Town, Lahore, Punjab</td>\n",
       "      <td>7</td>\n",
       "      <td>2 Kanal</td>\n",
       "      <td>5</td>\n",
       "    </tr>\n",
       "  </tbody>\n",
       "</table>\n",
       "</div>"
      ],
      "text/plain": [
       "            Type           Price                             Location Baths  \\\n",
       "0  Upper Portion  PKR45 Thousand           Wapda Town, Lahore, Punjab     3   \n",
       "1  Upper Portion  PKR40 Thousand  Expo Avenue Society, Lahore, Punjab     3   \n",
       "2  Upper Portion  PKR47 Thousand           Wapda Town, Lahore, Punjab     2   \n",
       "3          House    PKR5.95 Lakh              Gulberg, Lahore, Punjab     7   \n",
       "4          House       PKR5 Lakh          Muslim Town, Lahore, Punjab     7   \n",
       "\n",
       "       Area Beds  \n",
       "0  10 Marla    2  \n",
       "1  10 Marla    3  \n",
       "2  10 Marla    2  \n",
       "3   2 Kanal    6  \n",
       "4   2 Kanal    5  "
      ]
     },
     "execution_count": 8,
     "metadata": {},
     "output_type": "execute_result"
    }
   ],
   "source": [
    "df.head()"
   ]
  },
  {
   "cell_type": "markdown",
   "id": "cfec6418-096f-4518-9137-7ef79d2bcb8f",
   "metadata": {},
   "source": [
    "## Check if there are na values"
   ]
  },
  {
   "cell_type": "code",
   "execution_count": 9,
   "id": "f3552f7b-47ff-46bd-b5d6-c923a4c7437f",
   "metadata": {},
   "outputs": [
    {
     "data": {
      "text/plain": [
       "array(['2', '3', '6', '5', '7', '4', '1', '-', '8', '9', '10', '12', '11'],\n",
       "      dtype=object)"
      ]
     },
     "execution_count": 9,
     "metadata": {},
     "output_type": "execute_result"
    }
   ],
   "source": [
    "df['Beds'].unique()"
   ]
  },
  {
   "cell_type": "code",
   "execution_count": 10,
   "id": "9b275eb0-441c-4583-9dbe-386b624f08ad",
   "metadata": {},
   "outputs": [
    {
     "data": {
      "text/plain": [
       "0        False\n",
       "1        False\n",
       "2        False\n",
       "3        False\n",
       "4        False\n",
       "         ...  \n",
       "20505    False\n",
       "20506    False\n",
       "20507    False\n",
       "20508     True\n",
       "20509    False\n",
       "Name: Beds, Length: 20510, dtype: bool"
      ]
     },
     "execution_count": 10,
     "metadata": {},
     "output_type": "execute_result"
    }
   ],
   "source": [
    "df['Beds'] == '-'"
   ]
  },
  {
   "cell_type": "code",
   "execution_count": 11,
   "id": "6cde2b9d-9fa1-4e6b-8a77-d8527b056eea",
   "metadata": {},
   "outputs": [
    {
     "data": {
      "text/html": [
       "<div>\n",
       "<style scoped>\n",
       "    .dataframe tbody tr th:only-of-type {\n",
       "        vertical-align: middle;\n",
       "    }\n",
       "\n",
       "    .dataframe tbody tr th {\n",
       "        vertical-align: top;\n",
       "    }\n",
       "\n",
       "    .dataframe thead th {\n",
       "        text-align: right;\n",
       "    }\n",
       "</style>\n",
       "<table border=\"1\" class=\"dataframe\">\n",
       "  <thead>\n",
       "    <tr style=\"text-align: right;\">\n",
       "      <th></th>\n",
       "      <th>Type</th>\n",
       "      <th>Price</th>\n",
       "      <th>Location</th>\n",
       "      <th>Baths</th>\n",
       "      <th>Area</th>\n",
       "      <th>Beds</th>\n",
       "    </tr>\n",
       "  </thead>\n",
       "  <tbody>\n",
       "    <tr>\n",
       "      <th>20505</th>\n",
       "      <td>Upper Portion</td>\n",
       "      <td>PKR1 Lakh</td>\n",
       "      <td>Gulberg, Lahore, Punjab</td>\n",
       "      <td>3</td>\n",
       "      <td>1 Kanal</td>\n",
       "      <td>2</td>\n",
       "    </tr>\n",
       "    <tr>\n",
       "      <th>20506</th>\n",
       "      <td>Flat</td>\n",
       "      <td>PKR17 Thousand</td>\n",
       "      <td>Sanda Road, Lahore, Punjab</td>\n",
       "      <td>1</td>\n",
       "      <td>3 Marla</td>\n",
       "      <td>3</td>\n",
       "    </tr>\n",
       "    <tr>\n",
       "      <th>20507</th>\n",
       "      <td>Room</td>\n",
       "      <td>PKR23.5 Thousand</td>\n",
       "      <td>Garden Town, Lahore, Punjab</td>\n",
       "      <td>1</td>\n",
       "      <td>5 Marla</td>\n",
       "      <td>1</td>\n",
       "    </tr>\n",
       "    <tr>\n",
       "      <th>20508</th>\n",
       "      <td>Lower Portion</td>\n",
       "      <td>PKR35 Thousand</td>\n",
       "      <td>State Life Housing Society, Lahore, Punjab</td>\n",
       "      <td>-</td>\n",
       "      <td>7.1 Marla</td>\n",
       "      <td>-</td>\n",
       "    </tr>\n",
       "    <tr>\n",
       "      <th>20509</th>\n",
       "      <td>Room</td>\n",
       "      <td>PKR6 Thousand</td>\n",
       "      <td>Ichhra, Lahore, Punjab</td>\n",
       "      <td>1</td>\n",
       "      <td>0.9 Marla</td>\n",
       "      <td>1</td>\n",
       "    </tr>\n",
       "  </tbody>\n",
       "</table>\n",
       "</div>"
      ],
      "text/plain": [
       "                Type             Price  \\\n",
       "20505  Upper Portion         PKR1 Lakh   \n",
       "20506           Flat    PKR17 Thousand   \n",
       "20507           Room  PKR23.5 Thousand   \n",
       "20508  Lower Portion    PKR35 Thousand   \n",
       "20509           Room     PKR6 Thousand   \n",
       "\n",
       "                                         Location Baths       Area Beds  \n",
       "20505                     Gulberg, Lahore, Punjab     3    1 Kanal    2  \n",
       "20506                  Sanda Road, Lahore, Punjab     1    3 Marla    3  \n",
       "20507                 Garden Town, Lahore, Punjab     1    5 Marla    1  \n",
       "20508  State Life Housing Society, Lahore, Punjab     -  7.1 Marla    -  \n",
       "20509                      Ichhra, Lahore, Punjab     1  0.9 Marla    1  "
      ]
     },
     "execution_count": 11,
     "metadata": {},
     "output_type": "execute_result"
    }
   ],
   "source": [
    "df.tail()"
   ]
  },
  {
   "cell_type": "markdown",
   "id": "90ea9847-e5d5-4277-81b1-9cad68e098eb",
   "metadata": {},
   "source": [
    "Replace the - with na"
   ]
  },
  {
   "cell_type": "code",
   "execution_count": 12,
   "id": "ae45bbd9-d2ae-4aa1-bfe6-d98748d0923b",
   "metadata": {},
   "outputs": [],
   "source": [
    "df['Beds'] = df['Beds'].replace('-', np.nan)"
   ]
  },
  {
   "cell_type": "code",
   "execution_count": 13,
   "id": "b8bdddc1-3473-49e4-a767-9c7c9fe7d2a6",
   "metadata": {},
   "outputs": [
    {
     "data": {
      "text/html": [
       "<div>\n",
       "<style scoped>\n",
       "    .dataframe tbody tr th:only-of-type {\n",
       "        vertical-align: middle;\n",
       "    }\n",
       "\n",
       "    .dataframe tbody tr th {\n",
       "        vertical-align: top;\n",
       "    }\n",
       "\n",
       "    .dataframe thead th {\n",
       "        text-align: right;\n",
       "    }\n",
       "</style>\n",
       "<table border=\"1\" class=\"dataframe\">\n",
       "  <thead>\n",
       "    <tr style=\"text-align: right;\">\n",
       "      <th></th>\n",
       "      <th>Type</th>\n",
       "      <th>Price</th>\n",
       "      <th>Location</th>\n",
       "      <th>Baths</th>\n",
       "      <th>Area</th>\n",
       "      <th>Beds</th>\n",
       "    </tr>\n",
       "  </thead>\n",
       "  <tbody>\n",
       "    <tr>\n",
       "      <th>20505</th>\n",
       "      <td>Upper Portion</td>\n",
       "      <td>PKR1 Lakh</td>\n",
       "      <td>Gulberg, Lahore, Punjab</td>\n",
       "      <td>3</td>\n",
       "      <td>1 Kanal</td>\n",
       "      <td>2</td>\n",
       "    </tr>\n",
       "    <tr>\n",
       "      <th>20506</th>\n",
       "      <td>Flat</td>\n",
       "      <td>PKR17 Thousand</td>\n",
       "      <td>Sanda Road, Lahore, Punjab</td>\n",
       "      <td>1</td>\n",
       "      <td>3 Marla</td>\n",
       "      <td>3</td>\n",
       "    </tr>\n",
       "    <tr>\n",
       "      <th>20507</th>\n",
       "      <td>Room</td>\n",
       "      <td>PKR23.5 Thousand</td>\n",
       "      <td>Garden Town, Lahore, Punjab</td>\n",
       "      <td>1</td>\n",
       "      <td>5 Marla</td>\n",
       "      <td>1</td>\n",
       "    </tr>\n",
       "    <tr>\n",
       "      <th>20508</th>\n",
       "      <td>Lower Portion</td>\n",
       "      <td>PKR35 Thousand</td>\n",
       "      <td>State Life Housing Society, Lahore, Punjab</td>\n",
       "      <td>-</td>\n",
       "      <td>7.1 Marla</td>\n",
       "      <td>NaN</td>\n",
       "    </tr>\n",
       "    <tr>\n",
       "      <th>20509</th>\n",
       "      <td>Room</td>\n",
       "      <td>PKR6 Thousand</td>\n",
       "      <td>Ichhra, Lahore, Punjab</td>\n",
       "      <td>1</td>\n",
       "      <td>0.9 Marla</td>\n",
       "      <td>1</td>\n",
       "    </tr>\n",
       "  </tbody>\n",
       "</table>\n",
       "</div>"
      ],
      "text/plain": [
       "                Type             Price  \\\n",
       "20505  Upper Portion         PKR1 Lakh   \n",
       "20506           Flat    PKR17 Thousand   \n",
       "20507           Room  PKR23.5 Thousand   \n",
       "20508  Lower Portion    PKR35 Thousand   \n",
       "20509           Room     PKR6 Thousand   \n",
       "\n",
       "                                         Location Baths       Area Beds  \n",
       "20505                     Gulberg, Lahore, Punjab     3    1 Kanal    2  \n",
       "20506                  Sanda Road, Lahore, Punjab     1    3 Marla    3  \n",
       "20507                 Garden Town, Lahore, Punjab     1    5 Marla    1  \n",
       "20508  State Life Housing Society, Lahore, Punjab     -  7.1 Marla  NaN  \n",
       "20509                      Ichhra, Lahore, Punjab     1  0.9 Marla    1  "
      ]
     },
     "execution_count": 13,
     "metadata": {},
     "output_type": "execute_result"
    }
   ],
   "source": [
    "df.tail()"
   ]
  },
  {
   "cell_type": "code",
   "execution_count": 14,
   "id": "83d1da1e-df04-4525-9e27-3e0303f7a1d9",
   "metadata": {},
   "outputs": [
    {
     "data": {
      "text/plain": [
       "array(['2', '3', '6', '5', '7', '4', '1', nan, '8', '9', '10', '12', '11'],\n",
       "      dtype=object)"
      ]
     },
     "execution_count": 14,
     "metadata": {},
     "output_type": "execute_result"
    }
   ],
   "source": [
    "df['Beds'].unique()"
   ]
  },
  {
   "cell_type": "code",
   "execution_count": 15,
   "id": "a6400138-5b69-490a-a6e6-071d57e6bd78",
   "metadata": {},
   "outputs": [
    {
     "data": {
      "text/plain": [
       "array(['3', '2', '7', '10', '6', '8', '5', '1', '4', '-', '9'],\n",
       "      dtype=object)"
      ]
     },
     "execution_count": 15,
     "metadata": {},
     "output_type": "execute_result"
    }
   ],
   "source": [
    "df['Baths'].unique()"
   ]
  },
  {
   "cell_type": "code",
   "execution_count": 16,
   "id": "b6253b1a-0795-441b-a7e3-c8b5174ece28",
   "metadata": {},
   "outputs": [],
   "source": [
    "df['Baths'] = df['Baths'].replace('-', np.nan)"
   ]
  },
  {
   "cell_type": "code",
   "execution_count": 17,
   "id": "7233a7d3-ee24-4841-ad5c-44c2f866c441",
   "metadata": {},
   "outputs": [
    {
     "data": {
      "text/plain": [
       "array(['Upper Portion', 'House', 'Lower Portion', 'Room', 'Flat',\n",
       "       'Farm House', 'Penthouse', 'Home'], dtype=object)"
      ]
     },
     "execution_count": 17,
     "metadata": {},
     "output_type": "execute_result"
    }
   ],
   "source": [
    "df['Type'].unique()"
   ]
  },
  {
   "cell_type": "code",
   "execution_count": 18,
   "id": "aedf8571-5846-49ed-bc19-471724bf419c",
   "metadata": {},
   "outputs": [
    {
     "data": {
      "text/plain": [
       "Type           0\n",
       "Price          0\n",
       "Location       0\n",
       "Baths       1157\n",
       "Area           0\n",
       "Beds        1002\n",
       "dtype: int64"
      ]
     },
     "execution_count": 18,
     "metadata": {},
     "output_type": "execute_result"
    }
   ],
   "source": [
    "df.isna().sum()"
   ]
  },
  {
   "cell_type": "code",
   "execution_count": 19,
   "id": "104ef15f-c616-4a7e-b785-fa71cb9af21c",
   "metadata": {},
   "outputs": [
    {
     "data": {
      "text/plain": [
       "array(['PKR45 Thousand', 'PKR40 Thousand', 'PKR47 Thousand',\n",
       "       'PKR5.95 Lakh', 'PKR5 Lakh', 'PKR15 Lakh', 'PKR4.1 Lakh',\n",
       "       'PKR4.5 Lakh', 'PKR9.5 Lakh', 'PKR30 Thousand', 'PKR5.5 Lakh',\n",
       "       'PKR4 Lakh', 'PKR18 Thousand', 'PKR22 Thousand', 'PKR55 Thousand',\n",
       "       'PKR28 Thousand', 'PKR46 Thousand', 'PKR37 Thousand',\n",
       "       'PKR36 Thousand', 'PKR75 Thousand', 'PKR50 Thousand',\n",
       "       'PKR1.4 Lakh', 'PKR13 Thousand', 'PKR65 Thousand', 'PKR1.1 Lakh',\n",
       "       'PKR2.9 Lakh', 'PKR92 Thousand', 'PKR1.64 Lakh', 'PKR1.45 Lakh',\n",
       "       'PKR90 Thousand', 'PKR60 Thousand', 'PKR95 Thousand',\n",
       "       'PKR70 Thousand', 'PKR1.9 Lakh', 'PKR53 Thousand', 'PKR1 Lakh',\n",
       "       'PKR3.5 Lakh', 'PKR2.8 Lakh', 'PKR2 Lakh', 'PKR3 Lakh',\n",
       "       'PKR3.35 Lakh', 'PKR3.3 Lakh', 'PKR3.4 Lakh', 'PKR1.8 Lakh',\n",
       "       'PKR1.5 Lakh', 'PKR2.6 Lakh', 'PKR80 Thousand', 'PKR3.7 Lakh',\n",
       "       'PKR2.3 Lakh', 'PKR15 Thousand', 'PKR25 Thousand',\n",
       "       'PKR23 Thousand', 'PKR1.3 Lakh', 'PKR1.85 Lakh', 'PKR38 Thousand',\n",
       "       'PKR1.32 Lakh', 'PKR1.25 Lakh', 'PKR1.65 Lakh', 'PKR1.2 Lakh',\n",
       "       'PKR19 Thousand', 'PKR27 Thousand', 'PKR42 Thousand',\n",
       "       'PKR2.2 Lakh', 'PKR26 Thousand', 'PKR1.7 Lakh', 'PKR2.5 Lakh',\n",
       "       'PKR35 Thousand', 'PKR1.6 Lakh', 'PKR2.25 Lakh', 'PKR2.05 Lakh',\n",
       "       'PKR2.1 Lakh', 'PKR83 Thousand', 'PKR78 Thousand', 'PKR3.1 Lakh',\n",
       "       'PKR2.75 Lakh', 'PKR1.95 Lakh', 'PKR3.75 Lakh', 'PKR3.98 Lakh',\n",
       "       'PKR1.75 Lakh', 'PKR85 Thousand', 'PKR3.9 Lakh', 'PKR63 Thousand',\n",
       "       'PKR6.5 Lakh', 'PKR93 Thousand', 'PKR87 Thousand', 'PKR2.95 Lakh',\n",
       "       'PKR58 Thousand', 'PKR1.15 Lakh', 'PKR5.5 Thousand',\n",
       "       'PKR67 Thousand', 'PKR1.55 Lakh', 'PKR29 Thousand', 'PKR1.05 Lakh',\n",
       "       'PKR2.4 Lakh', 'PKR16 Thousand', 'PKR64 Thousand',\n",
       "       'PKR49.5 Thousand', 'PKR68 Thousand', 'PKR66 Thousand',\n",
       "       'PKR62 Thousand', 'PKR12 Thousand', 'PKR20 Thousand',\n",
       "       'PKR72 Thousand', 'PKR1.35 Lakh', 'PKR7 Lakh', 'PKR3.25 Lakh',\n",
       "       'PKR6 Lakh', 'PKR52 Thousand', 'PKR48 Thousand', 'PKR74 Thousand',\n",
       "       'PKR76 Thousand', 'PKR33 Thousand', 'PKR24 Thousand',\n",
       "       'PKR43 Thousand', 'PKR2.7 Lakh', 'PKR39 Thousand',\n",
       "       'PKR14 Thousand', 'PKR10 Thousand', 'PKR32 Thousand',\n",
       "       'PKR49 Thousand', 'PKR69 Thousand', 'PKR2.85 Lakh',\n",
       "       'PKR17 Thousand', 'PKR31 Thousand', 'PKR88 Thousand',\n",
       "       'PKR57 Thousand', 'PKR82 Thousand', 'PKR2.35 Lakh',\n",
       "       'PKR54 Thousand', 'PKR97 Thousand', 'PKR1.68 Lakh',\n",
       "       'PKR59 Thousand', 'PKR56 Thousand', 'PKR59.09 Thousand',\n",
       "       'PKR5.75 Lakh', 'PKR99 Thousand', 'PKR4.3 Lakh', 'PKR73 Thousand',\n",
       "       'PKR25.5 Thousand', 'PKR1.29 Lakh', 'PKR8 Thousand',\n",
       "       'PKR1.79 Lakh', 'PKR10 Lakh', 'PKR3.2 Lakh', 'PKR6.95 Lakh',\n",
       "       'PKR2.55 Lakh', 'PKR94 Thousand', 'PKR3.15 Lakh', 'PKR89 Thousand',\n",
       "       'PKR2.65 Lakh', 'PKR1.59 Lakh', 'PKR44 Thousand', 'PKR9.95 Lakh',\n",
       "       'PKR2.15 Lakh', 'PKR1.27 Lakh', 'PKR1.18 Lakh', 'PKR1.48 Lakh',\n",
       "       'PKR84 Thousand', 'PKR98 Thousand', 'PKR34 Thousand',\n",
       "       'PKR5.9 Lakh', 'PKR23.5 Thousand', 'PKR7 Thousand',\n",
       "       'PKR14.5 Thousand', 'PKR4.2 Lakh', 'PKR6.9 Lakh', 'PKR2.45 Lakh',\n",
       "       'PKR6.7 Lakh', 'PKR86 Thousand', 'PKR3.45 Lakh', 'PKR71 Thousand',\n",
       "       'PKR8 Lakh', 'PKR3.8 Lakh', 'PKR17.5 Thousand', 'PKR41 Thousand',\n",
       "       'PKR21 Thousand', 'PKR1.09 Lakh', 'PKR1.08 Lakh', 'PKR4.25 Lakh',\n",
       "       'PKR2.59 Lakh', 'PKR12 Lakh', 'PKR10.5 Lakh', 'PKR9.25 Lakh',\n",
       "       'PKR9 Lakh', 'PKR2.11 Lakh', 'PKR77 Thousand', 'PKR39.5 Thousand',\n",
       "       'PKR79 Thousand', 'PKR1.11 Lakh', 'PKR1.49 Lakh', 'PKR2.49 Lakh',\n",
       "       'PKR2.78 Lakh', 'PKR96 Thousand', 'PKR37.5 Thousand',\n",
       "       'PKR16.5 Thousand', 'PKR61 Thousand', 'PKR7.5 Lakh',\n",
       "       'PKR2.12 Lakh', 'PKR5 Thousand', 'PKR32.5 Thousand',\n",
       "       'PKR15.5 Lakh', 'PKR1.12 Lakh', 'PKR1.5 Thousand', 'PKR4.85 Lakh',\n",
       "       'PKR3.6 Lakh', 'PKR3.48 Lakh', 'PKR2.48 Lakh', 'PKR1.07 Lakh',\n",
       "       'PKR1.71 Lakh', 'PKR1.72 Lakh', 'PKR1.67 Lakh', 'PKR4.75 Lakh',\n",
       "       'PKR13 Lakh', 'PKR91 Thousand', 'PKR3.95 Lakh', 'PKR11 Thousand',\n",
       "       'PKR50.01 Thousand', 'PKR4.8 Lakh', 'PKR18 Lakh', 'PKR2.04 Lakh',\n",
       "       'PKR11 Lakh', 'PKR44.5 Thousand', 'PKR42.5 Thousand',\n",
       "       'PKR1.44 Lakh', 'PKR2.08 Lakh', 'PKR1.26 Lakh', 'PKR1.82 Lakh',\n",
       "       'PKR8.5 Lakh', 'PKR2.01 Lakh', 'PKR2.29 Lakh', 'PKR2.99 Lakh',\n",
       "       'PKR1.99 Lakh', 'PKR59.5 Thousand', 'PKR4.15 Lakh', 'PKR5.25 Lakh',\n",
       "       'PKR1.38 Lakh', 'PKR2.09 Lakh', 'PKR18.5 Thousand',\n",
       "       'PKR33.5 Thousand', 'PKR81 Thousand', 'PKR11.5 Thousand',\n",
       "       'PKR6.5 Thousand', 'PKR4.9 Lakh', 'PKR51 Thousand', 'PKR1.87 Lakh',\n",
       "       'PKR6 Thousand', 'PKR7.5 Thousand', 'PKR15.5 Thousand',\n",
       "       'PKR4.7 Lakh', 'PKR3.39 Lakh', 'PKR28.5 Thousand', 'PKR4.6 Lakh',\n",
       "       'PKR4.4 Lakh', 'PKR27.5 Thousand', 'PKR3.05 Lakh', 'PKR6.3 Lakh',\n",
       "       'PKR9.1 Lakh', 'PKR11.5 Lakh', 'PKR3.65 Lakh', 'PKR2.5 Thousand',\n",
       "       'PKR4 Thousand', 'PKR20.8 Lakh', 'PKR4.5 Thousand', 'PKR4.55 Lakh',\n",
       "       'PKR6.75 Lakh', 'PKR100 Thousand', 'PKR9 Thousand',\n",
       "       'PKR26.5 Thousand', 'PKR25 Lakh', 'PKR4.1 Thousand',\n",
       "       'PKR33.57 Thousand', 'PKR2.8 Thousand', 'PKR13.5 Thousand',\n",
       "       'PKR12.3 Thousand', 'PKR21.5 Thousand', 'PKR24.5 Thousand',\n",
       "       'PKR67.5 Thousand', 'PKR6.25 Thousand', 'PKR10.5 Thousand',\n",
       "       'PKR36.5 Thousand', 'PKR40.9 Thousand', 'PKR14 Lakh',\n",
       "       'PKR19.5 Thousand', 'PKR20.5 Thousand', 'PKR1.34 Lakh',\n",
       "       'PKR2.36 Lakh', 'PKR12.5 Thousand', 'PKR30 Lakh',\n",
       "       'PKR28.3 Thousand', 'PKR12.9 Thousand', 'PKR29.5 Thousand',\n",
       "       'PKR1.41 Lakh', 'PKR38.5 Thousand', 'PKR1.52 Lakh',\n",
       "       'PKR22.5 Thousand', 'PKR1.28 Lakh', 'PKR55.5 Thousand',\n",
       "       'PKR8.5 Thousand', 'PKR9.5 Thousand', 'PKR4.8 Thousand',\n",
       "       'PKR35.5 Thousand', 'PKR34.99 Thousand', 'PKR3 Thousand',\n",
       "       'PKR1.23 Lakh', 'PKR3.49 Lakh'], dtype=object)"
      ]
     },
     "execution_count": 19,
     "metadata": {},
     "output_type": "execute_result"
    }
   ],
   "source": [
    "df['Price'].unique()"
   ]
  },
  {
   "cell_type": "code",
   "execution_count": 20,
   "id": "a7b621e4-316d-4a29-bdde-5cdf5c2cd455",
   "metadata": {},
   "outputs": [],
   "source": [
    "df['Type'] = df['Type'].replace('-', np.nan)"
   ]
  },
  {
   "cell_type": "markdown",
   "id": "67e221d2-50f9-4f5c-b1fe-8cc4b86e2d43",
   "metadata": {},
   "source": [
    "Converting the price column from string to int and replacing the tense with numbers"
   ]
  },
  {
   "cell_type": "code",
   "execution_count": 21,
   "id": "599fa26b-9ce2-4d40-9478-60497e91770b",
   "metadata": {},
   "outputs": [],
   "source": [
    "def convert_price(price_str):\n",
    "    if isinstance(price_str, str):\n",
    "        price_str = price_str.replace('PKR', '').strip()\n",
    "        if 'Thousand' in price_str:\n",
    "            return float(price_str.replace('Thousand', '').strip()) * 1_000\n",
    "        elif 'Lakh' in price_str:\n",
    "            return float(price_str.replace('Lakh', '').strip()) * 100_000\n",
    "    return None"
   ]
  },
  {
   "cell_type": "code",
   "execution_count": 22,
   "id": "60d0e7a6-c4dc-40e1-a326-e41785ed08c1",
   "metadata": {},
   "outputs": [],
   "source": [
    "df['Price_num'] = df['Price'].apply(convert_price)"
   ]
  },
  {
   "cell_type": "code",
   "execution_count": 23,
   "id": "e5f98295-ae14-49fa-b9d7-41adf6bb39b2",
   "metadata": {},
   "outputs": [
    {
     "data": {
      "text/plain": [
       "Type            0\n",
       "Price           0\n",
       "Location        0\n",
       "Baths        1157\n",
       "Area            0\n",
       "Beds         1002\n",
       "Price_num       0\n",
       "dtype: int64"
      ]
     },
     "execution_count": 23,
     "metadata": {},
     "output_type": "execute_result"
    }
   ],
   "source": [
    "df.isna().sum()"
   ]
  },
  {
   "cell_type": "code",
   "execution_count": 24,
   "id": "2726d6bf-e77f-455a-bd4f-f86aa0f6b309",
   "metadata": {},
   "outputs": [],
   "source": [
    "df['Area'] = df['Area'].replace('-', np.nan)"
   ]
  },
  {
   "cell_type": "code",
   "execution_count": 25,
   "id": "d903a6e1-d44b-4ad2-92cc-1fab1bfd3919",
   "metadata": {},
   "outputs": [],
   "source": [
    "df2 = df.dropna()"
   ]
  },
  {
   "cell_type": "code",
   "execution_count": 26,
   "id": "d0f49b7c-929d-4277-b86a-d5cdcf9c3788",
   "metadata": {},
   "outputs": [
    {
     "data": {
      "text/plain": [
       "(19227, 7)"
      ]
     },
     "execution_count": 26,
     "metadata": {},
     "output_type": "execute_result"
    }
   ],
   "source": [
    "df2.shape"
   ]
  },
  {
   "cell_type": "code",
   "execution_count": 27,
   "id": "9a73fed1-106e-4fca-a982-69239da5132d",
   "metadata": {},
   "outputs": [
    {
     "data": {
      "text/plain": [
       "Type         0\n",
       "Price        0\n",
       "Location     0\n",
       "Baths        0\n",
       "Area         0\n",
       "Beds         0\n",
       "Price_num    0\n",
       "dtype: int64"
      ]
     },
     "execution_count": 27,
     "metadata": {},
     "output_type": "execute_result"
    }
   ],
   "source": [
    "df2.isna().sum()"
   ]
  },
  {
   "cell_type": "code",
   "execution_count": 28,
   "id": "ba283f70-90c7-456c-9c99-61271710b000",
   "metadata": {},
   "outputs": [
    {
     "data": {
      "text/plain": [
       "dtype('O')"
      ]
     },
     "execution_count": 28,
     "metadata": {},
     "output_type": "execute_result"
    }
   ],
   "source": [
    "df['Beds'].dtype"
   ]
  },
  {
   "cell_type": "code",
   "execution_count": 29,
   "id": "88580f60-84fc-4414-8256-ba75adf0c46d",
   "metadata": {},
   "outputs": [
    {
     "data": {
      "text/plain": [
       "dtype('O')"
      ]
     },
     "execution_count": 29,
     "metadata": {},
     "output_type": "execute_result"
    }
   ],
   "source": [
    "df['Baths'].dtype"
   ]
  },
  {
   "cell_type": "code",
   "execution_count": 30,
   "id": "dbc400c8-38f3-45bf-9eab-5e01641c043c",
   "metadata": {},
   "outputs": [
    {
     "data": {
      "text/html": [
       "<div>\n",
       "<style scoped>\n",
       "    .dataframe tbody tr th:only-of-type {\n",
       "        vertical-align: middle;\n",
       "    }\n",
       "\n",
       "    .dataframe tbody tr th {\n",
       "        vertical-align: top;\n",
       "    }\n",
       "\n",
       "    .dataframe thead th {\n",
       "        text-align: right;\n",
       "    }\n",
       "</style>\n",
       "<table border=\"1\" class=\"dataframe\">\n",
       "  <thead>\n",
       "    <tr style=\"text-align: right;\">\n",
       "      <th></th>\n",
       "      <th>Type</th>\n",
       "      <th>Price</th>\n",
       "      <th>Location</th>\n",
       "      <th>Baths</th>\n",
       "      <th>Area</th>\n",
       "      <th>Beds</th>\n",
       "      <th>Price_num</th>\n",
       "    </tr>\n",
       "  </thead>\n",
       "  <tbody>\n",
       "    <tr>\n",
       "      <th>0</th>\n",
       "      <td>Upper Portion</td>\n",
       "      <td>PKR45 Thousand</td>\n",
       "      <td>Wapda Town, Lahore, Punjab</td>\n",
       "      <td>3</td>\n",
       "      <td>10 Marla</td>\n",
       "      <td>2</td>\n",
       "      <td>45000.00</td>\n",
       "    </tr>\n",
       "    <tr>\n",
       "      <th>1</th>\n",
       "      <td>Upper Portion</td>\n",
       "      <td>PKR40 Thousand</td>\n",
       "      <td>Expo Avenue Society, Lahore, Punjab</td>\n",
       "      <td>3</td>\n",
       "      <td>10 Marla</td>\n",
       "      <td>3</td>\n",
       "      <td>40000.00</td>\n",
       "    </tr>\n",
       "    <tr>\n",
       "      <th>2</th>\n",
       "      <td>Upper Portion</td>\n",
       "      <td>PKR47 Thousand</td>\n",
       "      <td>Wapda Town, Lahore, Punjab</td>\n",
       "      <td>2</td>\n",
       "      <td>10 Marla</td>\n",
       "      <td>2</td>\n",
       "      <td>47000.00</td>\n",
       "    </tr>\n",
       "    <tr>\n",
       "      <th>3</th>\n",
       "      <td>House</td>\n",
       "      <td>PKR5.95 Lakh</td>\n",
       "      <td>Gulberg, Lahore, Punjab</td>\n",
       "      <td>7</td>\n",
       "      <td>2 Kanal</td>\n",
       "      <td>6</td>\n",
       "      <td>595000.00</td>\n",
       "    </tr>\n",
       "    <tr>\n",
       "      <th>4</th>\n",
       "      <td>House</td>\n",
       "      <td>PKR5 Lakh</td>\n",
       "      <td>Muslim Town, Lahore, Punjab</td>\n",
       "      <td>7</td>\n",
       "      <td>2 Kanal</td>\n",
       "      <td>5</td>\n",
       "      <td>500000.00</td>\n",
       "    </tr>\n",
       "  </tbody>\n",
       "</table>\n",
       "</div>"
      ],
      "text/plain": [
       "            Type           Price                             Location Baths  \\\n",
       "0  Upper Portion  PKR45 Thousand           Wapda Town, Lahore, Punjab     3   \n",
       "1  Upper Portion  PKR40 Thousand  Expo Avenue Society, Lahore, Punjab     3   \n",
       "2  Upper Portion  PKR47 Thousand           Wapda Town, Lahore, Punjab     2   \n",
       "3          House    PKR5.95 Lakh              Gulberg, Lahore, Punjab     7   \n",
       "4          House       PKR5 Lakh          Muslim Town, Lahore, Punjab     7   \n",
       "\n",
       "       Area Beds  Price_num  \n",
       "0  10 Marla    2   45000.00  \n",
       "1  10 Marla    3   40000.00  \n",
       "2  10 Marla    2   47000.00  \n",
       "3   2 Kanal    6  595000.00  \n",
       "4   2 Kanal    5  500000.00  "
      ]
     },
     "execution_count": 30,
     "metadata": {},
     "output_type": "execute_result"
    }
   ],
   "source": [
    "df.head()"
   ]
  },
  {
   "cell_type": "markdown",
   "id": "d0c13d98-4b0d-4259-9055-98ad288b70ab",
   "metadata": {},
   "source": [
    "## Convert Area into int num sqrft"
   ]
  },
  {
   "cell_type": "code",
   "execution_count": 31,
   "id": "9b83a171-b144-4efd-abb9-4b21efecddbe",
   "metadata": {},
   "outputs": [
    {
     "data": {
      "text/plain": [
       "array(['10 Marla', '2 Kanal', '4 Kanal', '1 Kanal', '2.1 Kanal',\n",
       "       '5 Marla', '2.4 Marla', '3 Marla', '3.6 Marla', '8 Marla',\n",
       "       '2.5 Marla', '1.8 Marla', '3.1 Marla', '2.2 Marla', '13 Marla',\n",
       "       '1.5 Kanal', '4 Marla', '6 Marla', '12 Marla', '7 Marla',\n",
       "       '18 Marla', '1.6 Kanal', '1.2 Kanal', '12.4 Marla', '3.3 Marla',\n",
       "       '3.8 Marla', '5.4 Marla', '5.5 Marla', '5.9 Marla', '1.2 Marla',\n",
       "       '7.5 Marla', '1.3 Marla', '15 Marla', '2.1 Marla', '17 Marla',\n",
       "       '1 Marla', '2 Marla', '5.3 Marla', '14 Marla', '2.7 Marla',\n",
       "       '2.3 Marla', '1.7 Marla', '3 Kanal', '0.7 Marla', '11.1 Marla',\n",
       "       '11 Marla', '1.1 Kanal', '3.4 Marla', '1.1 Marla', '9 Marla',\n",
       "       '7.6 Marla', '1.5 Marla', '16 Marla', '6.5 Marla', '1.4 Marla',\n",
       "       '2.9 Marla', '1.9 Marla', '2.8 Marla', '2.5 Kanal', '3.5 Marla',\n",
       "       '1.4 Kanal', '3.5 Kanal', '7.2 Marla', '9.9 Marla', '4.4 Marla',\n",
       "       '0.1 Marla', '8.8 Marla', '2.6 Marla', '9.5 Marla', '8.9 Marla',\n",
       "       '12.5 Marla', '0.5 Marla', '0.6 Marla', '5.8 Marla', '9.3 Marla',\n",
       "       '4.3 Marla', '1.3 Kanal', '6.2 Marla', '4.5 Marla', '2.7 Kanal',\n",
       "       '7.7 Marla', '4.4 Kanal', '3.2 Marla', '10.7 Marla', '5 Kanal',\n",
       "       '0.9 Marla', '7.3 Marla', '4.2 Marla', '1.6 Marla', '6.4 Marla',\n",
       "       '3.9 Marla', '10.2 Marla', '4.5 Kanal', '40 Kanal', '3.1 Kanal',\n",
       "       '3.3 Kanal', '9.8 Marla', '6.7 Marla', '7.1 Marla', '15.6 Marla',\n",
       "       '6.6 Marla', '8 Kanal', '16 Kanal', '17.8 Marla', '11.4 Marla',\n",
       "       '4.1 Marla', '8.2 Marla', '4.8 Marla', '5.1 Marla', '4.7 Marla',\n",
       "       '5.7 Marla', '7 Kanal', '1.7 Kanal', '2.4 Kanal', '7.8 Marla',\n",
       "       '5.6 Marla', '0.8 Marla', '4.9 Marla', '3.6 Kanal', '3.7 Marla',\n",
       "       '10.1 Marla', '13.3 Marla', '8.5 Marla', '10 Kanal', '6.1 Marla',\n",
       "       '0.4 Marla', '6 Kanal', '6.3 Marla', '2.3 Kanal', '10.4 Marla',\n",
       "       '19 Marla', '1.9 Kanal', '9.7 Marla', '15.1 Marla', '5.2 Marla',\n",
       "       '1.8 Kanal', '18.4 Marla', '13.5 Marla', '0.2 Marla', '34 Kanal',\n",
       "       '16.9 Marla', '10.9 Marla', '6.9 Marla', '12.2 Marla', '33 Kanal'],\n",
       "      dtype=object)"
      ]
     },
     "execution_count": 31,
     "metadata": {},
     "output_type": "execute_result"
    }
   ],
   "source": [
    "df['Area'].unique()"
   ]
  },
  {
   "cell_type": "code",
   "execution_count": 32,
   "id": "4f2de1c6-8164-4e9a-84c8-57ea22481cb9",
   "metadata": {},
   "outputs": [],
   "source": [
    "def convert_area_to_sqft(area_str):\n",
    "    if isinstance(area_str, str):\n",
    "        area_str = area_str.strip()\n",
    "        if 'Marla' in area_str:\n",
    "            value = float(area_str.replace('Marla', '').strip())\n",
    "            return value * 272.25\n",
    "        elif 'Kanal' in area_str:\n",
    "            value = float(area_str.replace('Kanal', '').strip())\n",
    "            return value * 5445\n",
    "    return None"
   ]
  },
  {
   "cell_type": "code",
   "execution_count": 33,
   "id": "f8017fe8-7cfe-4440-aa9d-ba8f51a37260",
   "metadata": {},
   "outputs": [],
   "source": [
    "df['area_sqft'] = df['Area'].apply(convert_area_to_sqft)"
   ]
  },
  {
   "cell_type": "code",
   "execution_count": 34,
   "id": "5ef3d658-a3d8-4eed-a7f8-2a225deb44c7",
   "metadata": {},
   "outputs": [
    {
     "data": {
      "text/html": [
       "<div>\n",
       "<style scoped>\n",
       "    .dataframe tbody tr th:only-of-type {\n",
       "        vertical-align: middle;\n",
       "    }\n",
       "\n",
       "    .dataframe tbody tr th {\n",
       "        vertical-align: top;\n",
       "    }\n",
       "\n",
       "    .dataframe thead th {\n",
       "        text-align: right;\n",
       "    }\n",
       "</style>\n",
       "<table border=\"1\" class=\"dataframe\">\n",
       "  <thead>\n",
       "    <tr style=\"text-align: right;\">\n",
       "      <th></th>\n",
       "      <th>Type</th>\n",
       "      <th>Price</th>\n",
       "      <th>Location</th>\n",
       "      <th>Baths</th>\n",
       "      <th>Area</th>\n",
       "      <th>Beds</th>\n",
       "      <th>Price_num</th>\n",
       "      <th>area_sqft</th>\n",
       "    </tr>\n",
       "  </thead>\n",
       "  <tbody>\n",
       "    <tr>\n",
       "      <th>0</th>\n",
       "      <td>Upper Portion</td>\n",
       "      <td>PKR45 Thousand</td>\n",
       "      <td>Wapda Town, Lahore, Punjab</td>\n",
       "      <td>3</td>\n",
       "      <td>10 Marla</td>\n",
       "      <td>2</td>\n",
       "      <td>45000.00</td>\n",
       "      <td>2722.50</td>\n",
       "    </tr>\n",
       "    <tr>\n",
       "      <th>1</th>\n",
       "      <td>Upper Portion</td>\n",
       "      <td>PKR40 Thousand</td>\n",
       "      <td>Expo Avenue Society, Lahore, Punjab</td>\n",
       "      <td>3</td>\n",
       "      <td>10 Marla</td>\n",
       "      <td>3</td>\n",
       "      <td>40000.00</td>\n",
       "      <td>2722.50</td>\n",
       "    </tr>\n",
       "    <tr>\n",
       "      <th>2</th>\n",
       "      <td>Upper Portion</td>\n",
       "      <td>PKR47 Thousand</td>\n",
       "      <td>Wapda Town, Lahore, Punjab</td>\n",
       "      <td>2</td>\n",
       "      <td>10 Marla</td>\n",
       "      <td>2</td>\n",
       "      <td>47000.00</td>\n",
       "      <td>2722.50</td>\n",
       "    </tr>\n",
       "    <tr>\n",
       "      <th>3</th>\n",
       "      <td>House</td>\n",
       "      <td>PKR5.95 Lakh</td>\n",
       "      <td>Gulberg, Lahore, Punjab</td>\n",
       "      <td>7</td>\n",
       "      <td>2 Kanal</td>\n",
       "      <td>6</td>\n",
       "      <td>595000.00</td>\n",
       "      <td>10890.00</td>\n",
       "    </tr>\n",
       "    <tr>\n",
       "      <th>4</th>\n",
       "      <td>House</td>\n",
       "      <td>PKR5 Lakh</td>\n",
       "      <td>Muslim Town, Lahore, Punjab</td>\n",
       "      <td>7</td>\n",
       "      <td>2 Kanal</td>\n",
       "      <td>5</td>\n",
       "      <td>500000.00</td>\n",
       "      <td>10890.00</td>\n",
       "    </tr>\n",
       "  </tbody>\n",
       "</table>\n",
       "</div>"
      ],
      "text/plain": [
       "            Type           Price                             Location Baths  \\\n",
       "0  Upper Portion  PKR45 Thousand           Wapda Town, Lahore, Punjab     3   \n",
       "1  Upper Portion  PKR40 Thousand  Expo Avenue Society, Lahore, Punjab     3   \n",
       "2  Upper Portion  PKR47 Thousand           Wapda Town, Lahore, Punjab     2   \n",
       "3          House    PKR5.95 Lakh              Gulberg, Lahore, Punjab     7   \n",
       "4          House       PKR5 Lakh          Muslim Town, Lahore, Punjab     7   \n",
       "\n",
       "       Area Beds  Price_num  area_sqft  \n",
       "0  10 Marla    2   45000.00    2722.50  \n",
       "1  10 Marla    3   40000.00    2722.50  \n",
       "2  10 Marla    2   47000.00    2722.50  \n",
       "3   2 Kanal    6  595000.00   10890.00  \n",
       "4   2 Kanal    5  500000.00   10890.00  "
      ]
     },
     "execution_count": 34,
     "metadata": {},
     "output_type": "execute_result"
    }
   ],
   "source": [
    "df.head()"
   ]
  },
  {
   "cell_type": "code",
   "execution_count": 35,
   "id": "7c0a3bc0-d7a5-4bbc-8356-b24f8b68e22b",
   "metadata": {},
   "outputs": [
    {
     "data": {
      "text/plain": [
       "array([2.722500e+03, 1.089000e+04, 2.178000e+04, 5.445000e+03,\n",
       "       1.143450e+04, 1.361250e+03, 6.534000e+02, 8.167500e+02,\n",
       "       9.801000e+02, 2.178000e+03, 6.806250e+02, 4.900500e+02,\n",
       "       8.439750e+02, 5.989500e+02, 3.539250e+03, 8.167500e+03,\n",
       "       1.089000e+03, 1.633500e+03, 3.267000e+03, 1.905750e+03,\n",
       "       4.900500e+03, 8.712000e+03, 6.534000e+03, 3.375900e+03,\n",
       "       8.984250e+02, 1.034550e+03, 1.470150e+03, 1.497375e+03,\n",
       "       1.606275e+03, 3.267000e+02, 2.041875e+03, 3.539250e+02,\n",
       "       4.083750e+03, 5.717250e+02, 4.628250e+03, 2.722500e+02,\n",
       "       5.445000e+02, 1.442925e+03, 3.811500e+03, 7.350750e+02,\n",
       "       6.261750e+02, 4.628250e+02, 1.633500e+04, 1.905750e+02,\n",
       "       3.021975e+03, 2.994750e+03, 5.989500e+03, 9.256500e+02,\n",
       "       2.994750e+02, 2.450250e+03, 2.069100e+03, 4.083750e+02,\n",
       "       4.356000e+03, 1.769625e+03, 3.811500e+02, 7.895250e+02,\n",
       "       5.172750e+02, 7.623000e+02, 1.361250e+04, 9.528750e+02,\n",
       "       7.623000e+03, 1.905750e+04, 1.960200e+03, 2.695275e+03,\n",
       "       1.197900e+03, 2.722500e+01, 2.395800e+03, 7.078500e+02,\n",
       "       2.586375e+03, 2.423025e+03, 3.403125e+03, 1.361250e+02,\n",
       "       1.633500e+02, 1.579050e+03, 2.531925e+03, 1.170675e+03,\n",
       "       7.078500e+03, 1.687950e+03, 1.225125e+03, 1.470150e+04,\n",
       "       2.096325e+03, 2.395800e+04, 8.712000e+02, 2.913075e+03,\n",
       "       2.722500e+04, 2.450250e+02, 1.987425e+03, 1.143450e+03,\n",
       "       4.356000e+02, 1.742400e+03, 1.061775e+03, 2.776950e+03,\n",
       "       2.450250e+04, 2.178000e+05, 1.687950e+04, 1.796850e+04,\n",
       "       2.668050e+03, 1.824075e+03, 1.932975e+03, 4.247100e+03,\n",
       "       1.796850e+03, 4.356000e+04, 8.712000e+04, 4.846050e+03,\n",
       "       3.103650e+03, 1.116225e+03, 2.232450e+03, 1.306800e+03,\n",
       "       1.388475e+03, 1.279575e+03, 1.551825e+03, 3.811500e+04,\n",
       "       9.256500e+03, 1.306800e+04, 2.123550e+03, 1.524600e+03,\n",
       "       2.178000e+02, 1.334025e+03, 1.960200e+04, 1.007325e+03,\n",
       "       2.749725e+03, 3.620925e+03, 2.314125e+03, 5.445000e+04,\n",
       "       1.660725e+03, 1.089000e+02, 3.267000e+04, 1.715175e+03,\n",
       "       1.252350e+04, 2.831400e+03, 5.172750e+03, 1.034550e+04,\n",
       "       2.640825e+03, 4.110975e+03, 1.415700e+03, 9.801000e+03,\n",
       "       5.009400e+03, 3.675375e+03, 5.445000e+01, 1.851300e+05,\n",
       "       4.601025e+03, 2.967525e+03, 1.878525e+03, 3.321450e+03,\n",
       "       1.796850e+05])"
      ]
     },
     "execution_count": 35,
     "metadata": {},
     "output_type": "execute_result"
    }
   ],
   "source": [
    "df['area_sqft'].unique()"
   ]
  },
  {
   "cell_type": "code",
   "execution_count": 36,
   "id": "64db2c18-7888-4df8-9283-694f72a25820",
   "metadata": {},
   "outputs": [
    {
     "data": {
      "text/plain": [
       "Type            0\n",
       "Price           0\n",
       "Location        0\n",
       "Baths        1157\n",
       "Area            0\n",
       "Beds         1002\n",
       "Price_num       0\n",
       "area_sqft       0\n",
       "dtype: int64"
      ]
     },
     "execution_count": 36,
     "metadata": {},
     "output_type": "execute_result"
    }
   ],
   "source": [
    "df.isna().sum()"
   ]
  },
  {
   "cell_type": "code",
   "execution_count": 37,
   "id": "202b095e-d7d1-4858-8388-d4260aa7cb6d",
   "metadata": {},
   "outputs": [],
   "source": [
    "df['Beds'] = df['Beds'].astype(float)"
   ]
  },
  {
   "cell_type": "code",
   "execution_count": 38,
   "id": "ca34347a-53b6-4d72-867b-8e56956ac9b5",
   "metadata": {},
   "outputs": [],
   "source": [
    "df['Beds'] = df['Beds'].fillna(df['Beds'].median())"
   ]
  },
  {
   "cell_type": "code",
   "execution_count": 39,
   "id": "21b90b9f-1561-4cad-aa47-d418a3f3bec1",
   "metadata": {},
   "outputs": [
    {
     "data": {
      "text/html": [
       "<div>\n",
       "<style scoped>\n",
       "    .dataframe tbody tr th:only-of-type {\n",
       "        vertical-align: middle;\n",
       "    }\n",
       "\n",
       "    .dataframe tbody tr th {\n",
       "        vertical-align: top;\n",
       "    }\n",
       "\n",
       "    .dataframe thead th {\n",
       "        text-align: right;\n",
       "    }\n",
       "</style>\n",
       "<table border=\"1\" class=\"dataframe\">\n",
       "  <thead>\n",
       "    <tr style=\"text-align: right;\">\n",
       "      <th></th>\n",
       "      <th>Type</th>\n",
       "      <th>Price</th>\n",
       "      <th>Location</th>\n",
       "      <th>Baths</th>\n",
       "      <th>Area</th>\n",
       "      <th>Beds</th>\n",
       "      <th>Price_num</th>\n",
       "      <th>area_sqft</th>\n",
       "    </tr>\n",
       "  </thead>\n",
       "  <tbody>\n",
       "    <tr>\n",
       "      <th>0</th>\n",
       "      <td>Upper Portion</td>\n",
       "      <td>PKR45 Thousand</td>\n",
       "      <td>Wapda Town, Lahore, Punjab</td>\n",
       "      <td>3</td>\n",
       "      <td>10 Marla</td>\n",
       "      <td>2.00</td>\n",
       "      <td>45000.00</td>\n",
       "      <td>2722.50</td>\n",
       "    </tr>\n",
       "    <tr>\n",
       "      <th>1</th>\n",
       "      <td>Upper Portion</td>\n",
       "      <td>PKR40 Thousand</td>\n",
       "      <td>Expo Avenue Society, Lahore, Punjab</td>\n",
       "      <td>3</td>\n",
       "      <td>10 Marla</td>\n",
       "      <td>3.00</td>\n",
       "      <td>40000.00</td>\n",
       "      <td>2722.50</td>\n",
       "    </tr>\n",
       "    <tr>\n",
       "      <th>2</th>\n",
       "      <td>Upper Portion</td>\n",
       "      <td>PKR47 Thousand</td>\n",
       "      <td>Wapda Town, Lahore, Punjab</td>\n",
       "      <td>2</td>\n",
       "      <td>10 Marla</td>\n",
       "      <td>2.00</td>\n",
       "      <td>47000.00</td>\n",
       "      <td>2722.50</td>\n",
       "    </tr>\n",
       "    <tr>\n",
       "      <th>3</th>\n",
       "      <td>House</td>\n",
       "      <td>PKR5.95 Lakh</td>\n",
       "      <td>Gulberg, Lahore, Punjab</td>\n",
       "      <td>7</td>\n",
       "      <td>2 Kanal</td>\n",
       "      <td>6.00</td>\n",
       "      <td>595000.00</td>\n",
       "      <td>10890.00</td>\n",
       "    </tr>\n",
       "    <tr>\n",
       "      <th>4</th>\n",
       "      <td>House</td>\n",
       "      <td>PKR5 Lakh</td>\n",
       "      <td>Muslim Town, Lahore, Punjab</td>\n",
       "      <td>7</td>\n",
       "      <td>2 Kanal</td>\n",
       "      <td>5.00</td>\n",
       "      <td>500000.00</td>\n",
       "      <td>10890.00</td>\n",
       "    </tr>\n",
       "  </tbody>\n",
       "</table>\n",
       "</div>"
      ],
      "text/plain": [
       "            Type           Price                             Location Baths  \\\n",
       "0  Upper Portion  PKR45 Thousand           Wapda Town, Lahore, Punjab     3   \n",
       "1  Upper Portion  PKR40 Thousand  Expo Avenue Society, Lahore, Punjab     3   \n",
       "2  Upper Portion  PKR47 Thousand           Wapda Town, Lahore, Punjab     2   \n",
       "3          House    PKR5.95 Lakh              Gulberg, Lahore, Punjab     7   \n",
       "4          House       PKR5 Lakh          Muslim Town, Lahore, Punjab     7   \n",
       "\n",
       "       Area  Beds  Price_num  area_sqft  \n",
       "0  10 Marla  2.00   45000.00    2722.50  \n",
       "1  10 Marla  3.00   40000.00    2722.50  \n",
       "2  10 Marla  2.00   47000.00    2722.50  \n",
       "3   2 Kanal  6.00  595000.00   10890.00  \n",
       "4   2 Kanal  5.00  500000.00   10890.00  "
      ]
     },
     "execution_count": 39,
     "metadata": {},
     "output_type": "execute_result"
    }
   ],
   "source": [
    "df.head()"
   ]
  },
  {
   "cell_type": "code",
   "execution_count": 40,
   "id": "b3a7b3d7-b694-481f-87cd-0874e3e4784b",
   "metadata": {},
   "outputs": [],
   "source": [
    "df['Baths'] = df['Baths'].astype(float)"
   ]
  },
  {
   "cell_type": "code",
   "execution_count": 41,
   "id": "21cc1bd9-059f-4a74-a7cc-d4a864278211",
   "metadata": {},
   "outputs": [],
   "source": [
    "df['Baths'] = df['Baths'].fillna(df['Baths'].median())"
   ]
  },
  {
   "cell_type": "code",
   "execution_count": 42,
   "id": "d74a2eb9-0d98-426e-ba93-a51bccc44a57",
   "metadata": {},
   "outputs": [
    {
     "data": {
      "text/html": [
       "<div>\n",
       "<style scoped>\n",
       "    .dataframe tbody tr th:only-of-type {\n",
       "        vertical-align: middle;\n",
       "    }\n",
       "\n",
       "    .dataframe tbody tr th {\n",
       "        vertical-align: top;\n",
       "    }\n",
       "\n",
       "    .dataframe thead th {\n",
       "        text-align: right;\n",
       "    }\n",
       "</style>\n",
       "<table border=\"1\" class=\"dataframe\">\n",
       "  <thead>\n",
       "    <tr style=\"text-align: right;\">\n",
       "      <th></th>\n",
       "      <th>Type</th>\n",
       "      <th>Price</th>\n",
       "      <th>Location</th>\n",
       "      <th>Baths</th>\n",
       "      <th>Area</th>\n",
       "      <th>Beds</th>\n",
       "      <th>Price_num</th>\n",
       "      <th>area_sqft</th>\n",
       "      <th>price_per_sqft</th>\n",
       "    </tr>\n",
       "  </thead>\n",
       "  <tbody>\n",
       "    <tr>\n",
       "      <th>0</th>\n",
       "      <td>Upper Portion</td>\n",
       "      <td>PKR45 Thousand</td>\n",
       "      <td>Wapda Town, Lahore, Punjab</td>\n",
       "      <td>3.00</td>\n",
       "      <td>10 Marla</td>\n",
       "      <td>2.00</td>\n",
       "      <td>45000.00</td>\n",
       "      <td>2722.50</td>\n",
       "      <td>16528.93</td>\n",
       "    </tr>\n",
       "    <tr>\n",
       "      <th>1</th>\n",
       "      <td>Upper Portion</td>\n",
       "      <td>PKR40 Thousand</td>\n",
       "      <td>Expo Avenue Society, Lahore, Punjab</td>\n",
       "      <td>3.00</td>\n",
       "      <td>10 Marla</td>\n",
       "      <td>3.00</td>\n",
       "      <td>40000.00</td>\n",
       "      <td>2722.50</td>\n",
       "      <td>14692.38</td>\n",
       "    </tr>\n",
       "    <tr>\n",
       "      <th>2</th>\n",
       "      <td>Upper Portion</td>\n",
       "      <td>PKR47 Thousand</td>\n",
       "      <td>Wapda Town, Lahore, Punjab</td>\n",
       "      <td>2.00</td>\n",
       "      <td>10 Marla</td>\n",
       "      <td>2.00</td>\n",
       "      <td>47000.00</td>\n",
       "      <td>2722.50</td>\n",
       "      <td>17263.54</td>\n",
       "    </tr>\n",
       "    <tr>\n",
       "      <th>3</th>\n",
       "      <td>House</td>\n",
       "      <td>PKR5.95 Lakh</td>\n",
       "      <td>Gulberg, Lahore, Punjab</td>\n",
       "      <td>7.00</td>\n",
       "      <td>2 Kanal</td>\n",
       "      <td>6.00</td>\n",
       "      <td>595000.00</td>\n",
       "      <td>10890.00</td>\n",
       "      <td>54637.28</td>\n",
       "    </tr>\n",
       "    <tr>\n",
       "      <th>4</th>\n",
       "      <td>House</td>\n",
       "      <td>PKR5 Lakh</td>\n",
       "      <td>Muslim Town, Lahore, Punjab</td>\n",
       "      <td>7.00</td>\n",
       "      <td>2 Kanal</td>\n",
       "      <td>5.00</td>\n",
       "      <td>500000.00</td>\n",
       "      <td>10890.00</td>\n",
       "      <td>45913.68</td>\n",
       "    </tr>\n",
       "  </tbody>\n",
       "</table>\n",
       "</div>"
      ],
      "text/plain": [
       "            Type           Price                             Location  Baths  \\\n",
       "0  Upper Portion  PKR45 Thousand           Wapda Town, Lahore, Punjab   3.00   \n",
       "1  Upper Portion  PKR40 Thousand  Expo Avenue Society, Lahore, Punjab   3.00   \n",
       "2  Upper Portion  PKR47 Thousand           Wapda Town, Lahore, Punjab   2.00   \n",
       "3          House    PKR5.95 Lakh              Gulberg, Lahore, Punjab   7.00   \n",
       "4          House       PKR5 Lakh          Muslim Town, Lahore, Punjab   7.00   \n",
       "\n",
       "       Area  Beds  Price_num  area_sqft  price_per_sqft  \n",
       "0  10 Marla  2.00   45000.00    2722.50        16528.93  \n",
       "1  10 Marla  3.00   40000.00    2722.50        14692.38  \n",
       "2  10 Marla  2.00   47000.00    2722.50        17263.54  \n",
       "3   2 Kanal  6.00  595000.00   10890.00        54637.28  \n",
       "4   2 Kanal  5.00  500000.00   10890.00        45913.68  "
      ]
     },
     "execution_count": 42,
     "metadata": {},
     "output_type": "execute_result"
    }
   ],
   "source": [
    "df['price_per_sqft'] = df['Price_num']*1000/ df['area_sqft']\n",
    "df.head()"
   ]
  },
  {
   "cell_type": "markdown",
   "id": "ada784c4-ee05-4ee3-9a93-3ebf406e544b",
   "metadata": {},
   "source": [
    "## converting the location name to other which has less then 10 rows in groupby function so it is easy for us in onehot encoder"
   ]
  },
  {
   "cell_type": "code",
   "execution_count": 43,
   "id": "b8279cbd-c4c8-4856-bb98-0d4e0faa535a",
   "metadata": {},
   "outputs": [
    {
     "data": {
      "text/plain": [
       "461"
      ]
     },
     "execution_count": 43,
     "metadata": {},
     "output_type": "execute_result"
    }
   ],
   "source": [
    "len(df.Location.unique())"
   ]
  },
  {
   "cell_type": "code",
   "execution_count": 44,
   "id": "6ee67ea0-d8e2-4256-9259-79a4176e2609",
   "metadata": {},
   "outputs": [
    {
     "data": {
      "text/plain": [
       "Location\n",
       "DHA Defence, Lahore, Punjab                         4942\n",
       "Bahria Town, Lahore, Punjab                         2093\n",
       "Askari, Lahore, Punjab                              1178\n",
       "Johar Town, Lahore, Punjab                          1035\n",
       "Gulberg, Lahore, Punjab                              723\n",
       "                                                    ... \n",
       "Al-Wahab Garden - Phase 1, Lahore, Punjab              1\n",
       "Al-Kareem Premier Housing Scheme, Lahore, Punjab       1\n",
       "Wocland Villas, Lahore, Punjab                         1\n",
       "Yasrab Colony, Lahore, Punjab                          1\n",
       "Zohra Homes, Lahore, Punjab                            1\n",
       "Name: Location, Length: 461, dtype: int64"
      ]
     },
     "metadata": {},
     "output_type": "display_data"
    }
   ],
   "source": [
    "df.Location = df.Location.apply(lambda x: x.strip())\n",
    "\n",
    "location_stats = df.groupby('Location')['Location'].agg('count').sort_values(ascending=False)\n",
    "from IPython.display import display\n",
    "display(location_stats)"
   ]
  },
  {
   "cell_type": "code",
   "execution_count": 45,
   "id": "5d5ed59a-aaab-465f-bf9b-de2c82a6621c",
   "metadata": {},
   "outputs": [
    {
     "data": {
      "text/plain": [
       "311"
      ]
     },
     "execution_count": 45,
     "metadata": {},
     "output_type": "execute_result"
    }
   ],
   "source": [
    "len(location_stats[location_stats<10])"
   ]
  },
  {
   "cell_type": "code",
   "execution_count": 46,
   "id": "aaa1d3b6-4f26-45d4-9fd9-fa90fb08e49d",
   "metadata": {},
   "outputs": [],
   "source": [
    "location_stat_less_then_10 = location_stats[location_stats<=10]"
   ]
  },
  {
   "cell_type": "code",
   "execution_count": 47,
   "id": "31b8ee2d-cdec-4d9c-b092-4d6b81d4b592",
   "metadata": {},
   "outputs": [
    {
     "data": {
      "text/plain": [
       "137"
      ]
     },
     "execution_count": 47,
     "metadata": {},
     "output_type": "execute_result"
    }
   ],
   "source": [
    "df.Location = df.Location.apply(lambda x: 'others' if x in location_stat_less_then_10 else x)\n",
    "len(df.Location.unique())"
   ]
  },
  {
   "cell_type": "code",
   "execution_count": 48,
   "id": "7e5cdfab-eb44-43f9-ae24-d8ffa45a4dbc",
   "metadata": {},
   "outputs": [
    {
     "data": {
      "text/plain": [
       "(20510, 9)"
      ]
     },
     "execution_count": 48,
     "metadata": {},
     "output_type": "execute_result"
    }
   ],
   "source": [
    "df.shape"
   ]
  },
  {
   "cell_type": "code",
   "execution_count": 49,
   "id": "4523a199-9db9-4df1-847f-6fe283e0e942",
   "metadata": {},
   "outputs": [
    {
     "data": {
      "text/plain": [
       "Type                        Flat\n",
       "Price             PKR17 Thousand\n",
       "Location                  others\n",
       "Baths                       1.00\n",
       "Area                     3 Marla\n",
       "Beds                        3.00\n",
       "Price_num               17000.00\n",
       "area_sqft                 816.75\n",
       "price_per_sqft          20814.20\n",
       "Name: 20506, dtype: object"
      ]
     },
     "execution_count": 49,
     "metadata": {},
     "output_type": "execute_result"
    }
   ],
   "source": [
    "df.loc[20506]"
   ]
  },
  {
   "cell_type": "code",
   "execution_count": 50,
   "id": "5e4c8a44-0c08-4a6f-95d8-7e61309730bd",
   "metadata": {},
   "outputs": [
    {
     "data": {
      "text/plain": [
       "(20510, 9)"
      ]
     },
     "execution_count": 50,
     "metadata": {},
     "output_type": "execute_result"
    }
   ],
   "source": [
    "df[df.area_sqft/df.Beds<300].head()\n",
    "df.shape"
   ]
  },
  {
   "cell_type": "code",
   "execution_count": 51,
   "id": "11146f63-1f97-4128-84dd-f6bd2a45e495",
   "metadata": {},
   "outputs": [
    {
     "data": {
      "text/plain": [
       "(19469, 9)"
      ]
     },
     "execution_count": 51,
     "metadata": {},
     "output_type": "execute_result"
    }
   ],
   "source": [
    "df4 = df[~(df.area_sqft/df.Beds<300)]\n",
    "df4.shape"
   ]
  },
  {
   "cell_type": "code",
   "execution_count": 52,
   "id": "5cbf8ed8-1e50-4cc2-afbc-3ac8fb98bb0a",
   "metadata": {},
   "outputs": [
    {
     "data": {
      "text/plain": [
       "count    19469.00\n",
       "mean     31036.29\n",
       "std      18883.38\n",
       "min        675.20\n",
       "25%      16528.93\n",
       "50%      25711.66\n",
       "75%      41978.22\n",
       "max     279720.28\n",
       "Name: price_per_sqft, dtype: float64"
      ]
     },
     "execution_count": 52,
     "metadata": {},
     "output_type": "execute_result"
    }
   ],
   "source": [
    "df4.price_per_sqft.describe()"
   ]
  },
  {
   "cell_type": "code",
   "execution_count": 53,
   "id": "d6f526d1-296b-4f82-81c7-1048ec014ecc",
   "metadata": {},
   "outputs": [],
   "source": [
    "def filter_price_per_sqft_within_std(df):\n",
    "    mean = df['price_per_sqft'].mean()\n",
    "    std = df['price_per_sqft'].std()\n",
    "    lower_bound = mean - std\n",
    "    upper_bound = mean + std\n",
    "    return df[(df['price_per_sqft'] >= lower_bound) & (df['price_per_sqft'] <= upper_bound)]\n"
   ]
  },
  {
   "cell_type": "code",
   "execution_count": 54,
   "id": "2c6b01e1-fa56-4b5d-998e-c1eee581937d",
   "metadata": {},
   "outputs": [],
   "source": [
    "df5 = filter_price_per_sqft_within_std(df4)"
   ]
  },
  {
   "cell_type": "code",
   "execution_count": 55,
   "id": "7059c621-46d5-4ede-af70-1f38af39c663",
   "metadata": {},
   "outputs": [
    {
     "data": {
      "text/plain": [
       "(15046, 9)"
      ]
     },
     "execution_count": 55,
     "metadata": {},
     "output_type": "execute_result"
    }
   ],
   "source": [
    "df5.shape"
   ]
  },
  {
   "cell_type": "code",
   "execution_count": 56,
   "id": "1917f9c5-6558-4279-ace1-196759b7b2e4",
   "metadata": {},
   "outputs": [
    {
     "data": {
      "text/plain": [
       "count   15046.00\n",
       "mean    27086.85\n",
       "std     10963.67\n",
       "min     12243.65\n",
       "25%     17447.20\n",
       "50%     24487.30\n",
       "75%     36730.95\n",
       "max     49849.14\n",
       "Name: price_per_sqft, dtype: float64"
      ]
     },
     "execution_count": 56,
     "metadata": {},
     "output_type": "execute_result"
    }
   ],
   "source": [
    "df5.price_per_sqft.describe()"
   ]
  },
  {
   "cell_type": "code",
   "execution_count": 57,
   "id": "9859123b-243e-49fa-b6ef-e6cf3ab253c1",
   "metadata": {},
   "outputs": [
    {
     "data": {
      "image/png": "[encoded data removed]",
      "text/plain": [
       "<Figure size 800x600 with 1 Axes>"
      ]
     },
     "metadata": {},
     "output_type": "display_data"
    }
   ],
   "source": [
    "def plot_scatter(df, location):\n",
    "    bhk2 = df[(df['Location'] == location) & (df['Beds'] == 2)]\n",
    "    bhk3 = df[(df['Location'] == location) & (df['Beds'] == 3)]\n",
    "\n",
    "    plt.figure(figsize=(8,6))\n",
    "    plt.scatter(bhk2['area_sqft'], bhk2['Price_num'], color='blue', label='2 BHK', alpha=0.6)\n",
    "    plt.scatter(bhk3['area_sqft'], bhk3['Price_num'], color='green', label='3 BHK', alpha=0.6)\n",
    "\n",
    "    plt.xlabel('Total Square Feet')\n",
    "    plt.ylabel('Price (in thousands or lakhs)')\n",
    "    plt.title(f'Price vs Area in {location}')\n",
    "    plt.legend()\n",
    "    plt.grid(True)\n",
    "    plt.show()\n",
    "\n",
    "\n",
    "plot_scatter(df5, 'others')"
   ]
  },
  {
   "cell_type": "code",
   "execution_count": 58,
   "id": "1909455a-751a-42bc-b8a2-275b6a5dbb6a",
   "metadata": {},
   "outputs": [
    {
     "data": {
      "text/plain": [
       "Text(0, 0.5, 'count')"
      ]
     },
     "execution_count": 58,
     "metadata": {},
     "output_type": "execute_result"
    },
    {
     "data": {
      "image/png": "[encoded data removed]",
      "text/plain": [
       "<Figure size 2000x1000 with 1 Axes>"
      ]
     },
     "metadata": {},
     "output_type": "display_data"
    }
   ],
   "source": [
    "plt.hist(df5.Baths, rwidth = 0.8)\n",
    "plt.xlabel('Number of Bathrooms')\n",
    "plt.ylabel('count')"
   ]
  },
  {
   "cell_type": "code",
   "execution_count": 59,
   "id": "7e3d5517-9b7e-402c-ba33-79d4d89e59f0",
   "metadata": {},
   "outputs": [
    {
     "data": {
      "text/plain": [
       "array([ 3.,  2.,  7.,  6.,  1.,  4.,  5.,  8., 10.,  9.])"
      ]
     },
     "execution_count": 59,
     "metadata": {},
     "output_type": "execute_result"
    }
   ],
   "source": [
    "df5.Baths.unique()"
   ]
  },
  {
   "cell_type": "code",
   "execution_count": 60,
   "id": "c36432b6-cd65-4afe-8928-0028ae18ed1d",
   "metadata": {},
   "outputs": [
    {
     "data": {
      "text/plain": [
       "23"
      ]
     },
     "execution_count": 60,
     "metadata": {},
     "output_type": "execute_result"
    }
   ],
   "source": [
    "len(df5[df5.Baths>df5.Beds+2])"
   ]
  },
  {
   "cell_type": "code",
   "execution_count": 61,
   "id": "fb672089-5c5f-4307-b12d-5fecf745b2c7",
   "metadata": {},
   "outputs": [],
   "source": [
    "df6 = df5[df5.Baths<df5.Beds+2]"
   ]
  },
  {
   "cell_type": "code",
   "execution_count": 62,
   "id": "4bea6f6b-e210-4075-b3a9-33f7929383f7",
   "metadata": {},
   "outputs": [
    {
     "data": {
      "text/plain": [
       "(14770, 9)"
      ]
     },
     "execution_count": 62,
     "metadata": {},
     "output_type": "execute_result"
    }
   ],
   "source": [
    "df6.shape"
   ]
  },
  {
   "cell_type": "code",
   "execution_count": 63,
   "id": "f1cc96e7-62c0-48ef-af7f-8dc6095b7898",
   "metadata": {},
   "outputs": [
    {
     "data": {
      "text/html": [
       "<div>\n",
       "<style scoped>\n",
       "    .dataframe tbody tr th:only-of-type {\n",
       "        vertical-align: middle;\n",
       "    }\n",
       "\n",
       "    .dataframe tbody tr th {\n",
       "        vertical-align: top;\n",
       "    }\n",
       "\n",
       "    .dataframe thead th {\n",
       "        text-align: right;\n",
       "    }\n",
       "</style>\n",
       "<table border=\"1\" class=\"dataframe\">\n",
       "  <thead>\n",
       "    <tr style=\"text-align: right;\">\n",
       "      <th></th>\n",
       "      <th>Type</th>\n",
       "      <th>Price</th>\n",
       "      <th>Location</th>\n",
       "      <th>Baths</th>\n",
       "      <th>Area</th>\n",
       "      <th>Beds</th>\n",
       "      <th>Price_num</th>\n",
       "      <th>area_sqft</th>\n",
       "      <th>price_per_sqft</th>\n",
       "    </tr>\n",
       "  </thead>\n",
       "  <tbody>\n",
       "    <tr>\n",
       "      <th>0</th>\n",
       "      <td>Upper Portion</td>\n",
       "      <td>PKR45 Thousand</td>\n",
       "      <td>Wapda Town, Lahore, Punjab</td>\n",
       "      <td>3.00</td>\n",
       "      <td>10 Marla</td>\n",
       "      <td>2.00</td>\n",
       "      <td>45000.00</td>\n",
       "      <td>2722.50</td>\n",
       "      <td>16528.93</td>\n",
       "    </tr>\n",
       "    <tr>\n",
       "      <th>1</th>\n",
       "      <td>Upper Portion</td>\n",
       "      <td>PKR40 Thousand</td>\n",
       "      <td>others</td>\n",
       "      <td>3.00</td>\n",
       "      <td>10 Marla</td>\n",
       "      <td>3.00</td>\n",
       "      <td>40000.00</td>\n",
       "      <td>2722.50</td>\n",
       "      <td>14692.38</td>\n",
       "    </tr>\n",
       "    <tr>\n",
       "      <th>2</th>\n",
       "      <td>Upper Portion</td>\n",
       "      <td>PKR47 Thousand</td>\n",
       "      <td>Wapda Town, Lahore, Punjab</td>\n",
       "      <td>2.00</td>\n",
       "      <td>10 Marla</td>\n",
       "      <td>2.00</td>\n",
       "      <td>47000.00</td>\n",
       "      <td>2722.50</td>\n",
       "      <td>17263.54</td>\n",
       "    </tr>\n",
       "    <tr>\n",
       "      <th>8</th>\n",
       "      <td>House</td>\n",
       "      <td>PKR4.5 Lakh</td>\n",
       "      <td>Gulberg, Lahore, Punjab</td>\n",
       "      <td>6.00</td>\n",
       "      <td>2 Kanal</td>\n",
       "      <td>6.00</td>\n",
       "      <td>450000.00</td>\n",
       "      <td>10890.00</td>\n",
       "      <td>41322.31</td>\n",
       "    </tr>\n",
       "    <tr>\n",
       "      <th>10</th>\n",
       "      <td>Lower Portion</td>\n",
       "      <td>PKR30 Thousand</td>\n",
       "      <td>Government Employees Cooperative Housing Socie...</td>\n",
       "      <td>2.00</td>\n",
       "      <td>5 Marla</td>\n",
       "      <td>2.00</td>\n",
       "      <td>30000.00</td>\n",
       "      <td>1361.25</td>\n",
       "      <td>22038.57</td>\n",
       "    </tr>\n",
       "  </tbody>\n",
       "</table>\n",
       "</div>"
      ],
      "text/plain": [
       "             Type           Price  \\\n",
       "0   Upper Portion  PKR45 Thousand   \n",
       "1   Upper Portion  PKR40 Thousand   \n",
       "2   Upper Portion  PKR47 Thousand   \n",
       "8           House     PKR4.5 Lakh   \n",
       "10  Lower Portion  PKR30 Thousand   \n",
       "\n",
       "                                             Location  Baths      Area  Beds  \\\n",
       "0                          Wapda Town, Lahore, Punjab   3.00  10 Marla  2.00   \n",
       "1                                              others   3.00  10 Marla  3.00   \n",
       "2                          Wapda Town, Lahore, Punjab   2.00  10 Marla  2.00   \n",
       "8                             Gulberg, Lahore, Punjab   6.00   2 Kanal  6.00   \n",
       "10  Government Employees Cooperative Housing Socie...   2.00   5 Marla  2.00   \n",
       "\n",
       "    Price_num  area_sqft  price_per_sqft  \n",
       "0    45000.00    2722.50        16528.93  \n",
       "1    40000.00    2722.50        14692.38  \n",
       "2    47000.00    2722.50        17263.54  \n",
       "8   450000.00   10890.00        41322.31  \n",
       "10   30000.00    1361.25        22038.57  "
      ]
     },
     "execution_count": 63,
     "metadata": {},
     "output_type": "execute_result"
    }
   ],
   "source": [
    "df6.head()"
   ]
  },
  {
   "cell_type": "code",
   "execution_count": 64,
   "id": "9ed42135-5f65-4c35-9d7c-d201cbc47424",
   "metadata": {},
   "outputs": [
    {
     "data": {
      "text/html": [
       "<div>\n",
       "<style scoped>\n",
       "    .dataframe tbody tr th:only-of-type {\n",
       "        vertical-align: middle;\n",
       "    }\n",
       "\n",
       "    .dataframe tbody tr th {\n",
       "        vertical-align: top;\n",
       "    }\n",
       "\n",
       "    .dataframe thead th {\n",
       "        text-align: right;\n",
       "    }\n",
       "</style>\n",
       "<table border=\"1\" class=\"dataframe\">\n",
       "  <thead>\n",
       "    <tr style=\"text-align: right;\">\n",
       "      <th></th>\n",
       "      <th>Type</th>\n",
       "      <th>Location</th>\n",
       "      <th>Baths</th>\n",
       "      <th>Beds</th>\n",
       "      <th>Price_num</th>\n",
       "      <th>area_sqft</th>\n",
       "    </tr>\n",
       "  </thead>\n",
       "  <tbody>\n",
       "    <tr>\n",
       "      <th>0</th>\n",
       "      <td>Upper Portion</td>\n",
       "      <td>Wapda Town, Lahore, Punjab</td>\n",
       "      <td>3.00</td>\n",
       "      <td>2.00</td>\n",
       "      <td>45000.00</td>\n",
       "      <td>2722.50</td>\n",
       "    </tr>\n",
       "    <tr>\n",
       "      <th>1</th>\n",
       "      <td>Upper Portion</td>\n",
       "      <td>others</td>\n",
       "      <td>3.00</td>\n",
       "      <td>3.00</td>\n",
       "      <td>40000.00</td>\n",
       "      <td>2722.50</td>\n",
       "    </tr>\n",
       "    <tr>\n",
       "      <th>2</th>\n",
       "      <td>Upper Portion</td>\n",
       "      <td>Wapda Town, Lahore, Punjab</td>\n",
       "      <td>2.00</td>\n",
       "      <td>2.00</td>\n",
       "      <td>47000.00</td>\n",
       "      <td>2722.50</td>\n",
       "    </tr>\n",
       "    <tr>\n",
       "      <th>8</th>\n",
       "      <td>House</td>\n",
       "      <td>Gulberg, Lahore, Punjab</td>\n",
       "      <td>6.00</td>\n",
       "      <td>6.00</td>\n",
       "      <td>450000.00</td>\n",
       "      <td>10890.00</td>\n",
       "    </tr>\n",
       "    <tr>\n",
       "      <th>10</th>\n",
       "      <td>Lower Portion</td>\n",
       "      <td>Government Employees Cooperative Housing Socie...</td>\n",
       "      <td>2.00</td>\n",
       "      <td>2.00</td>\n",
       "      <td>30000.00</td>\n",
       "      <td>1361.25</td>\n",
       "    </tr>\n",
       "  </tbody>\n",
       "</table>\n",
       "</div>"
      ],
      "text/plain": [
       "             Type                                           Location  Baths  \\\n",
       "0   Upper Portion                         Wapda Town, Lahore, Punjab   3.00   \n",
       "1   Upper Portion                                             others   3.00   \n",
       "2   Upper Portion                         Wapda Town, Lahore, Punjab   2.00   \n",
       "8           House                            Gulberg, Lahore, Punjab   6.00   \n",
       "10  Lower Portion  Government Employees Cooperative Housing Socie...   2.00   \n",
       "\n",
       "    Beds  Price_num  area_sqft  \n",
       "0   2.00   45000.00    2722.50  \n",
       "1   3.00   40000.00    2722.50  \n",
       "2   2.00   47000.00    2722.50  \n",
       "8   6.00  450000.00   10890.00  \n",
       "10  2.00   30000.00    1361.25  "
      ]
     },
     "execution_count": 64,
     "metadata": {},
     "output_type": "execute_result"
    }
   ],
   "source": [
    "df7 = df6.drop(['Price', 'Area', 'price_per_sqft'], axis=1)\n",
    "df7.head()"
   ]
  },
  {
   "cell_type": "code",
   "execution_count": 65,
   "id": "afaa9710-5ff0-474c-8df8-a19c67491f09",
   "metadata": {},
   "outputs": [
    {
     "data": {
      "text/plain": [
       "Type         0\n",
       "Location     0\n",
       "Baths        0\n",
       "Beds         0\n",
       "Price_num    0\n",
       "area_sqft    0\n",
       "dtype: int64"
      ]
     },
     "execution_count": 65,
     "metadata": {},
     "output_type": "execute_result"
    }
   ],
   "source": [
    "df7.isna().sum()"
   ]
  },
  {
   "cell_type": "code",
   "execution_count": null,
   "id": "f12cb007-d43e-40c6-b405-dad373b303b2",
   "metadata": {},
   "outputs": [],
   "source": []
  },
  {
   "cell_type": "markdown",
   "id": "d54385ce-bebc-4aac-8a47-93c384c5f486",
   "metadata": {},
   "source": [
    "## OneHotEncoder to convert the categorical feature into numerical feature"
   ]
  },
  {
   "cell_type": "code",
   "execution_count": 66,
   "id": "34ca3905-270f-48c1-997c-a83f0217eb5d",
   "metadata": {},
   "outputs": [],
   "source": [
    "from sklearn.preprocessing import OneHotEncoder\n",
    "\n",
    "ohe = OneHotEncoder(handle_unknown='ignore', sparse_output=False)\n",
    "encoded = ohe.fit_transform(df7[['Location']])\n",
    "columns = ohe.get_feature_names_out(['Location'])\n",
    "\n",
    "# Turn it into a DataFrame\n",
    "import pandas as pd\n",
    "encoded_df = pd.DataFrame(encoded, columns=columns)\n",
    "\n",
    "# Combine with the rest of the original dataframe\n",
    "location_df = pd.DataFrame(encoded_df, columns=ohe.get_feature_names_out(['Location']))\n",
    "location_df.reset_index(drop=True, inplace=True)\n",
    "df7_nolocation = df7.drop('Location', axis=1).reset_index(drop=True)\n",
    "\n",
    "# Concatenate\n",
    "df8 = pd.concat([df7_nolocation, location_df], axis=1)"
   ]
  },
  {
   "cell_type": "code",
   "execution_count": 67,
   "id": "99f21f48-f1c0-4c79-ae23-7ae922d94267",
   "metadata": {},
   "outputs": [],
   "source": [
    "from sklearn.preprocessing import OneHotEncoder\n",
    "\n",
    "ohe = OneHotEncoder(handle_unknown='ignore', sparse_output=False)\n",
    "encoded = ohe.fit_transform(df7[['Type']])\n",
    "columns = ohe.get_feature_names_out(['Type'])\n",
    "\n",
    "# Turn it into a DataFrame\n",
    "import pandas as pd\n",
    "encoded_df = pd.DataFrame(encoded, columns=columns)\n",
    "\n",
    "# Combine with the rest of the original dataframe\n",
    "type_df = pd.DataFrame(encoded_df, columns=ohe.get_feature_names_out(['Type']))\n",
    "type_df.reset_index(drop=True, inplace=True)\n",
    "df_notype = df8.drop('Type', axis=1).reset_index(drop=True)\n",
    "\n",
    "# Concatenate\n",
    "df9 = pd.concat([df_notype, type_df], axis=1)"
   ]
  },
  {
   "cell_type": "code",
   "execution_count": 68,
   "id": "9ff09a33-6b5d-4222-8f40-019e2e2256c7",
   "metadata": {},
   "outputs": [
    {
     "data": {
      "text/plain": [
       "Baths                                     0\n",
       "Beds                                      0\n",
       "Price_num                                 0\n",
       "area_sqft                                 0\n",
       "Location_Aashiana Road, Lahore, Punjab    0\n",
       "                                         ..\n",
       "Type_House                                0\n",
       "Type_Lower Portion                        0\n",
       "Type_Penthouse                            0\n",
       "Type_Room                                 0\n",
       "Type_Upper Portion                        0\n",
       "Length: 149, dtype: int64"
      ]
     },
     "execution_count": 68,
     "metadata": {},
     "output_type": "execute_result"
    }
   ],
   "source": [
    "df9.isna().sum()"
   ]
  },
  {
   "cell_type": "code",
   "execution_count": 69,
   "id": "cbed3d4e-97f4-433c-9498-cb7cc4ef0717",
   "metadata": {},
   "outputs": [],
   "source": [
    "Y = df9['Price_num']\n",
    "X = df9.drop('Price_num', axis=1)"
   ]
  },
  {
   "cell_type": "code",
   "execution_count": 70,
   "id": "fab0b37f-114e-4a38-94af-031c47334075",
   "metadata": {},
   "outputs": [
    {
     "data": {
      "text/plain": [
       "0    45000.00\n",
       "1    40000.00\n",
       "2    47000.00\n",
       "3   450000.00\n",
       "4    30000.00\n",
       "Name: Price_num, dtype: float64"
      ]
     },
     "execution_count": 70,
     "metadata": {},
     "output_type": "execute_result"
    }
   ],
   "source": [
    "X.head()\n",
    "Y.head()"
   ]
  },
  {
   "cell_type": "code",
   "execution_count": 71,
   "id": "b03e7353-0704-42db-bcea-ff4a2b003b31",
   "metadata": {},
   "outputs": [],
   "source": [
    "from sklearn.model_selection import train_test_split\n",
    "\n",
    "X_train, X_test, y_train, y_test = train_test_split(\n",
    "    X, Y, train_size=0.2, random_state=42\n",
    ")\n"
   ]
  },
  {
   "cell_type": "code",
   "execution_count": 72,
   "id": "b9f5d02a-3c7a-4cfd-b726-6db0b28b78f2",
   "metadata": {},
   "outputs": [
    {
     "data": {
      "text/plain": [
       "0.8376420158571906"
      ]
     },
     "execution_count": 72,
     "metadata": {},
     "output_type": "execute_result"
    }
   ],
   "source": [
    "from sklearn.linear_model import LinearRegression\n",
    "lr_clf = LinearRegression()\n",
    "lr_clf.fit(X_train, y_train)\n",
    "lr_clf.score(X_test, y_test)"
   ]
  },
  {
   "cell_type": "code",
   "execution_count": 73,
   "id": "7c3fc0aa-12ed-4a3a-8df7-f3eec304c588",
   "metadata": {},
   "outputs": [
    {
     "data": {
      "text/plain": [
       "array([0.83776876, 0.83876621, 0.83715183, 0.83205739, 0.84389192])"
      ]
     },
     "execution_count": 73,
     "metadata": {},
     "output_type": "execute_result"
    }
   ],
   "source": [
    "from sklearn.model_selection import ShuffleSplit\n",
    "from sklearn.model_selection import cross_val_score\n",
    "\n",
    "cv = ShuffleSplit(n_splits = 5, test_size=0.2, random_state = 0)\n",
    "cross_val_score(LinearRegression(), X, Y, cv=cv)"
   ]
  },
  {
   "cell_type": "code",
   "execution_count": 74,
   "id": "4ef33a9b-48ab-4108-bd28-c53eccdb3787",
   "metadata": {},
   "outputs": [
    {
     "data": {
      "text/plain": [
       "0.905740542856214"
      ]
     },
     "execution_count": 74,
     "metadata": {},
     "output_type": "execute_result"
    }
   ],
   "source": [
    "from sklearn.ensemble import RandomForestRegressor\n",
    "clf = RandomForestRegressor()\n",
    "clf.fit(X_train, y_train)\n",
    "clf.score(X_test, y_test)"
   ]
  },
  {
   "cell_type": "code",
   "execution_count": 75,
   "id": "5c16bc19-4bae-47d1-85fc-caf750e9c3b1",
   "metadata": {},
   "outputs": [],
   "source": [
    "score =cross_val_score(clf, X, Y, cv=cv)"
   ]
  },
  {
   "cell_type": "code",
   "execution_count": 76,
   "id": "f629f034-01d6-465c-87f0-264a296ef855",
   "metadata": {},
   "outputs": [
    {
     "data": {
      "text/plain": [
       "np.float64(0.9239600987399095)"
      ]
     },
     "execution_count": 76,
     "metadata": {},
     "output_type": "execute_result"
    }
   ],
   "source": [
    "score.mean()"
   ]
  },
  {
   "cell_type": "code",
   "execution_count": null,
   "id": "c2d4cb20-3f03-44ac-a0ff-95e334c7380b",
   "metadata": {},
   "outputs": [],
   "source": [
    "from sklearn.model_selection import GridSearchCV\n",
    "\n",
    "params = {\n",
    "    'n_estimators': [50, 100, 150],\n",
    "    'max_depth': [3, 5, 10],\n",
    "}\n",
    "\n",
    "grid = GridSearchCV(RandomForestRegressor(), param_grid=params, cv=5, scoring='r2')\n",
    "grid.fit(X_train, y_train)\n",
    "print(\"Best params:\", grid.best_params_)"
   ]
  },
  {
   "cell_type": "code",
   "execution_count": null,
   "id": "237bc20b-3743-4b8b-97b4-43eb416f2e25",
   "metadata": {},
   "outputs": [],
   "source": [
    "clf = RandomForestRegressor(max_depth = 20, n_estimators = 200, random_state =42)\n",
    "clf.fit(X_train, y_train)\n",
    "clf.score(X_test, y_test)"
   ]
  },
  {
   "cell_type": "code",
   "execution_count": null,
   "id": "3770f8c6-0c84-4c21-9dec-f584b62fdf0b",
   "metadata": {},
   "outputs": [],
   "source": [
    "X.columns"
   ]
  },
  {
   "cell_type": "code",
   "execution_count": null,
   "id": "73633cc0-3b95-405c-8070-856084429570",
   "metadata": {},
   "outputs": [],
   "source": [
    "new_data = pd.DataFrame({\n",
    "    'Baths': [6],\n",
    "    'Beds': [6],\n",
    "    'area_sqft': [10000],\n",
    "    'Location': ['Gulberg, Lahore, Punjab'],\n",
    "    'Type': ['House'] # categorical\n",
    "})"
   ]
  },
  {
   "cell_type": "code",
   "execution_count": null,
   "id": "5abb5a66-2d3e-4390-b880-5f6a388b37ea",
   "metadata": {},
   "outputs": [],
   "source": [
    "new_data_encoded = pd.get_dummies(new_data, columns=['Type', 'Location'])"
   ]
  },
  {
   "cell_type": "code",
   "execution_count": null,
   "id": "45162a08-b85f-40f9-a214-e01178d8cb59",
   "metadata": {},
   "outputs": [],
   "source": [
    "import warnings\n",
    "warnings.filterwarnings('ignore')\n",
    "\n",
    "for col in X.columns:\n",
    "    if col not in new_data_encoded.columns:\n",
    "        new_data_encoded[col] = 0"
   ]
  },
  {
   "cell_type": "code",
   "execution_count": null,
   "id": "758ed68d-33f7-4ca4-8510-fe664f50bbe0",
   "metadata": {},
   "outputs": [],
   "source": [
    "new_data_encoded = new_data_encoded[X.columns]"
   ]
  },
  {
   "cell_type": "code",
   "execution_count": null,
   "id": "bdd78f95-7f4a-451d-9282-8d93cd6fd927",
   "metadata": {},
   "outputs": [],
   "source": [
    "pred = clf.predict(new_data_encoded)\n",
    "print(\"Prediction:\", pred)"
   ]
  },
  {
   "cell_type": "code",
   "execution_count": null,
   "id": "f28a6e83-5317-49bd-82cd-c7e6a3003751",
   "metadata": {},
   "outputs": [],
   "source": [
    "importances = clf.feature_importances_\n",
    "feature_names = X_train.columns\n",
    "\n",
    "# Create a DataFrame\n",
    "feat_imp_df = pd.DataFrame({\n",
    "    'Feature': feature_names,\n",
    "    'Importance': importances\n",
    "}).sort_values(by='Importance', ascending=False)\n",
    "\n",
    "print(feat_imp_df)"
   ]
  },
  {
   "cell_type": "code",
   "execution_count": null,
   "id": "a505d177-72b2-4a95-8dc0-93614977fa1b",
   "metadata": {},
   "outputs": [],
   "source": [
    "feat_imp_df[feat_imp_df['Importance'] >= 0.001].plot(\n",
    "    x='Feature',\n",
    "    y='Importance',\n",
    "    kind='bar',\n",
    "    legend=False,\n",
    "    title='Features with Importance >= 0.001'\n",
    ")"
   ]
  },
  {
   "cell_type": "markdown",
   "id": "2e9d3ab6-037b-4722-99a3-88db95a2b500",
   "metadata": {},
   "source": [
    "## Name the location columns other which have 0 importance"
   ]
  },
  {
   "cell_type": "code",
   "execution_count": null,
   "id": "c72701e1-ebbe-4fea-bc9e-5e0e8ef888e6",
   "metadata": {},
   "outputs": [],
   "source": [
    "len(df9.filter(like='Type', axis=1))"
   ]
  },
  {
   "cell_type": "code",
   "execution_count": null,
   "id": "cdebadb7-e3b3-488a-918e-36eab84772d8",
   "metadata": {},
   "outputs": [],
   "source": [
    "df9.head()"
   ]
  },
  {
   "cell_type": "code",
   "execution_count": null,
   "id": "cdb27792-7a6f-4bd3-875e-8793e83341d4",
   "metadata": {},
   "outputs": [],
   "source": [
    "# df9.columns = [col if col in important_cols else 'others' for col in df9.columns]"
   ]
  },
  {
   "cell_type": "code",
   "execution_count": null,
   "id": "41695285-afd0-4c15-811b-0eec25155ca3",
   "metadata": {},
   "outputs": [],
   "source": [
    "# df9.head()"
   ]
  },
  {
   "cell_type": "markdown",
   "id": "56c5974d-c8e8-4cc5-bdf2-d393067505a3",
   "metadata": {},
   "source": [
    "## Drop the columns which have feature importance less then 0.001"
   ]
  },
  {
   "cell_type": "code",
   "execution_count": null,
   "id": "6d0253a5-d239-4e48-8813-af1cbef49ae5",
   "metadata": {},
   "outputs": [],
   "source": [
    "# df9.shape"
   ]
  },
  {
   "cell_type": "code",
   "execution_count": null,
   "id": "2976266d-4bce-4eda-8b0f-3908b416e240",
   "metadata": {},
   "outputs": [],
   "source": [
    "# important_cols = [\n",
    "#     'area_sqft',\n",
    "#     'Type_House',\n",
    "#     'Beds',\n",
    "#     'Baths',\n",
    "#     'Location_Gulberg, Lahore, Punjab',\n",
    "#     'Location_DHA Defence, Lahore, Punjab',\n",
    "#     'Location_Askari, Lahore, Punjab',\n",
    "#     'Price_num',\n",
    "#     'Type_Farm House',\n",
    "#     'Type_Flat',\t\n",
    "#     'Type_Home',\n",
    "#     'Type_LowerPortion',\t\n",
    "#     'Type_Penthouse',\n",
    "#     'Type_Room',\n",
    "#     'Type_UpperPortion'\n",
    "# ]"
   ]
  },
  {
   "cell_type": "code",
   "execution_count": null,
   "id": "36c68b1d-821a-49d5-b03d-604a4babb52a",
   "metadata": {},
   "outputs": [],
   "source": [
    "# df10 = df9[important_cols]"
   ]
  },
  {
   "cell_type": "code",
   "execution_count": null,
   "id": "84630e9a-1e00-430c-b548-cb8302c04cc0",
   "metadata": {},
   "outputs": [],
   "source": [
    "# df10.shape"
   ]
  },
  {
   "cell_type": "code",
   "execution_count": null,
   "id": "332e92c7-d977-4dda-94f5-cba8f849cc1a",
   "metadata": {},
   "outputs": [],
   "source": [
    "# df10.head()"
   ]
  },
  {
   "cell_type": "code",
   "execution_count": null,
   "id": "5ccdfc79-8e04-4bdc-8aba-7cf0bfec6439",
   "metadata": {},
   "outputs": [],
   "source": [
    "# y = df10['Price_num']\n",
    "# X = df10.drop('Price_num', axis=1)\n",
    "\n",
    "# X_train, X_test, y_train, y_test = train_test_split(X, y, test_size = 0.2, random_state = 2)"
   ]
  },
  {
   "cell_type": "code",
   "execution_count": null,
   "id": "ffa42491-e96f-4e08-a005-0ae1901e0be8",
   "metadata": {},
   "outputs": [],
   "source": [
    "# clf_1 = RandomForestRegressor()\n",
    "# clf_1.fit(X_train, y_train)\n",
    "# clf_1.score(X_test, y_test)"
   ]
  },
  {
   "cell_type": "code",
   "execution_count": null,
   "id": "b7b739c5-88cf-4737-8abd-f3f655eb19b1",
   "metadata": {},
   "outputs": [],
   "source": [
    "# clf_1_f_i = clf_1.feature_importances_\n",
    "# columns_name = X_train.columns\n",
    "\n",
    "# feat_imp_1 = pd.DataFrame({\n",
    "#     'feature': columns_name,\n",
    "#     'importance': clf_1_f_i\n",
    "# }).sort_values(by='importance', ascending = False)\n",
    "\n",
    "# feat_imp_1"
   ]
  },
  {
   "cell_type": "code",
   "execution_count": null,
   "id": "ee06a4bc-e370-4d7e-ad7b-7f5b31962166",
   "metadata": {},
   "outputs": [],
   "source": [
    "# new_data_1 = pd.DataFrame({\n",
    "#     'Baths': [6],\n",
    "#     'Beds': [6],\n",
    "#     'area_sqft': [10000],\n",
    "#     'Location': ['Gulberg, Lahore, Punjab'],\n",
    "#     'Type': ['House']\n",
    "# })"
   ]
  },
  {
   "cell_type": "code",
   "execution_count": null,
   "id": "70f8157d-184f-46e0-a56b-f6d943ef9731",
   "metadata": {},
   "outputs": [],
   "source": [
    "# new_data_1_encoded = pd.get_dummies(new_data_1, columns=['Type', 'Location'])"
   ]
  },
  {
   "cell_type": "code",
   "execution_count": null,
   "id": "ca0cf9c2-009e-4cfb-a172-3b9b137fd5d3",
   "metadata": {},
   "outputs": [],
   "source": [
    "# for col in X.columns:\n",
    "#     if col not in new_data_1_encoded.columns:\n",
    "#         new_data_1_encoded[col] = 0"
   ]
  },
  {
   "cell_type": "code",
   "execution_count": null,
   "id": "85d62237-1614-4135-9a0f-c1c04d24ab42",
   "metadata": {},
   "outputs": [],
   "source": [
    "# new_data_1_encoded = new_data_1_encoded[X.columns]"
   ]
  },
  {
   "cell_type": "code",
   "execution_count": null,
   "id": "e8f7ea4b-579d-4dff-90f9-80ed42ca09e0",
   "metadata": {},
   "outputs": [],
   "source": [
    "# pred = clf_1.predict(new_data_1_encoded)\n",
    "# print(\"Prediction:\", pred)"
   ]
  },
  {
   "cell_type": "markdown",
   "id": "1e566c8c-9ca0-448d-bcbd-f1007adad1c8",
   "metadata": {},
   "source": [
    "## Save the model"
   ]
  },
  {
   "cell_type": "code",
   "execution_count": null,
   "id": "ab5e2672-c36b-4715-8506-a4fdacfeb8b6",
   "metadata": {},
   "outputs": [],
   "source": [
    "import pickle\n",
    "with open('Lahore_property_rent_prediction_1.pickle', 'wb') as f:\n",
    "    pickle.dump(clf, f)"
   ]
  },
  {
   "cell_type": "code",
   "execution_count": null,
   "id": "3990727b-b3db-49ca-a273-aa43d88ce217",
   "metadata": {},
   "outputs": [],
   "source": [
    "import pickle\n",
    "with open('Lahore_property_rent_prediction_1.pickle', 'rb') as f:\n",
    "    model = pickle.load(f)"
   ]
  },
  {
   "cell_type": "code",
   "execution_count": null,
   "id": "24722133-c069-4654-a1d6-e6d54a76f4f9",
   "metadata": {},
   "outputs": [],
   "source": [
    "model.predict(new_data_encoded)"
   ]
  },
  {
   "cell_type": "code",
   "execution_count": null,
   "id": "2a544616-c187-471b-ab8a-699676c1c627",
   "metadata": {},
   "outputs": [],
   "source": [
    "import json\n",
    "\n",
    "columns = {\n",
    "    'data_columns' : [col.lower() for col in X.columns]\n",
    "}\n",
    "\n",
    "with open('columns_1.json', 'w') as f:\n",
    "    f.write(json.dumps(columns))"
   ]
  },
  {
   "cell_type": "code",
   "execution_count": null,
   "id": "53be8377-1ae0-4935-993e-289901dfd406",
   "metadata": {},
   "outputs": [],
   "source": [
    "data_columns =[col.lower() for col in X.columns]\n",
    "location_end_index = max(i for i, col in enumerate(data_columns) if col.startswith(\"location_\"))\n",
    "\n",
    "print(f\"'location_' columns end at index: {location_end_index}\")"
   ]
  },
  {
   "cell_type": "code",
   "execution_count": null,
   "id": "48d3b174-1ded-43c4-8f73-d47eb2a08a85",
   "metadata": {},
   "outputs": [],
   "source": [
    "len(X.columns)"
   ]
  },
  {
   "cell_type": "code",
   "execution_count": null,
   "id": "d3ee9070-8be4-41f9-b2a1-8d03d2fae3e3",
   "metadata": {},
   "outputs": [],
   "source": []
  },
  {
   "cell_type": "code",
   "execution_count": null,
   "id": "cbccab49",
   "metadata": {},
   "outputs": [],
   "source": [
    "from sklearn.metrics import r2_score, mean_absolute_error\n",
    "\n",
    "# Assuming y_test and y_pred are already defined\n",
    "print(\"R² Score:\", r2_score(y_test, y_pred))\n",
    "print(\"Mean Absolute Error (MAE):\", mean_absolute_error(y_test, y_pred))\n"
   ]
  },
  {
   "cell_type": "markdown",
   "id": "740aff0b",
   "metadata": {},
   "source": [
    "---  \n",
    "## 📊 Model Evaluation\n",
    "\n",
    "We use **R² Score** and **Mean Absolute Error (MAE)** to evaluate model performance.\n",
    "\n",
    "## ✅ Sample Prediction and Summary\n",
    "\n",
    "Below is a demonstration of the model making predictions on sample input.\n",
    "\n",
    "---\n",
    "\n",
    "Thanks for checking out this project!  \n",
    "🔗 [Connect with me on LinkedIn](https://www.linkedin.com) | 💻 [View Code on GitHub](https://github.com)\n",
    "\n",
    "#MachineLearning #DataScience #Python #RealEstate #RegressionModel\n"
   ]
  }
 ],
 "metadata": {
  "kernelspec": {
   "display_name": "Python (env)",
   "language": "python",
   "name": "env"
  },
  "language_info": {
   "codemirror_mode": {
    "name": "ipython",
    "version": 3
   },
   "file_extension": ".py",
   "mimetype": "text/x-python",
   "name": "python",
   "nbconvert_exporter": "python",
   "pygments_lexer": "ipython3",
   "version": "3.13.2"
  }
 },
 "nbformat": 4,
 "nbformat_minor": 5
}
